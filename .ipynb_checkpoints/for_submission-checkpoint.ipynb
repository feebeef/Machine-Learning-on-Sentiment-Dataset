{
 "cells": [
  {
   "cell_type": "markdown",
   "metadata": {},
   "source": [
    "# Load Dataset"
   ]
  },
  {
   "cell_type": "code",
   "execution_count": 131,
   "metadata": {},
   "outputs": [],
   "source": [
    "import numpy as np \n",
    "import pandas as pd \n",
    "dataset = pd.read_csv('train.csv', error_bad_lines=False).fillna(' ')"
   ]
  },
  {
   "cell_type": "code",
   "execution_count": 132,
   "metadata": {},
   "outputs": [
    {
     "data": {
      "text/html": [
       "<div>\n",
       "<style scoped>\n",
       "    .dataframe tbody tr th:only-of-type {\n",
       "        vertical-align: middle;\n",
       "    }\n",
       "\n",
       "    .dataframe tbody tr th {\n",
       "        vertical-align: top;\n",
       "    }\n",
       "\n",
       "    .dataframe thead th {\n",
       "        text-align: right;\n",
       "    }\n",
       "</style>\n",
       "<table border=\"1\" class=\"dataframe\">\n",
       "  <thead>\n",
       "    <tr style=\"text-align: right;\">\n",
       "      <th></th>\n",
       "      <th>id</th>\n",
       "      <th>comment_text</th>\n",
       "      <th>toxic</th>\n",
       "      <th>severe_toxic</th>\n",
       "      <th>obscene</th>\n",
       "      <th>threat</th>\n",
       "      <th>insult</th>\n",
       "      <th>identity_hate</th>\n",
       "    </tr>\n",
       "  </thead>\n",
       "  <tbody>\n",
       "    <tr>\n",
       "      <th>0</th>\n",
       "      <td>0000997932d777bf</td>\n",
       "      <td>Explanation\\nWhy the edits made under my usern...</td>\n",
       "      <td>0</td>\n",
       "      <td>0</td>\n",
       "      <td>0</td>\n",
       "      <td>0</td>\n",
       "      <td>0</td>\n",
       "      <td>0</td>\n",
       "    </tr>\n",
       "    <tr>\n",
       "      <th>1</th>\n",
       "      <td>000103f0d9cfb60f</td>\n",
       "      <td>D'aww! He matches this background colour I'm s...</td>\n",
       "      <td>0</td>\n",
       "      <td>0</td>\n",
       "      <td>0</td>\n",
       "      <td>0</td>\n",
       "      <td>0</td>\n",
       "      <td>0</td>\n",
       "    </tr>\n",
       "    <tr>\n",
       "      <th>2</th>\n",
       "      <td>000113f07ec002fd</td>\n",
       "      <td>Hey man, I'm really not trying to edit war. It...</td>\n",
       "      <td>0</td>\n",
       "      <td>0</td>\n",
       "      <td>0</td>\n",
       "      <td>0</td>\n",
       "      <td>0</td>\n",
       "      <td>0</td>\n",
       "    </tr>\n",
       "    <tr>\n",
       "      <th>3</th>\n",
       "      <td>0001b41b1c6bb37e</td>\n",
       "      <td>\"\\nMore\\nI can't make any real suggestions on ...</td>\n",
       "      <td>0</td>\n",
       "      <td>0</td>\n",
       "      <td>0</td>\n",
       "      <td>0</td>\n",
       "      <td>0</td>\n",
       "      <td>0</td>\n",
       "    </tr>\n",
       "    <tr>\n",
       "      <th>4</th>\n",
       "      <td>0001d958c54c6e35</td>\n",
       "      <td>You, sir, are my hero. Any chance you remember...</td>\n",
       "      <td>0</td>\n",
       "      <td>0</td>\n",
       "      <td>0</td>\n",
       "      <td>0</td>\n",
       "      <td>0</td>\n",
       "      <td>0</td>\n",
       "    </tr>\n",
       "  </tbody>\n",
       "</table>\n",
       "</div>"
      ],
      "text/plain": [
       "                 id                                       comment_text  toxic  \\\n",
       "0  0000997932d777bf  Explanation\\nWhy the edits made under my usern...      0   \n",
       "1  000103f0d9cfb60f  D'aww! He matches this background colour I'm s...      0   \n",
       "2  000113f07ec002fd  Hey man, I'm really not trying to edit war. It...      0   \n",
       "3  0001b41b1c6bb37e  \"\\nMore\\nI can't make any real suggestions on ...      0   \n",
       "4  0001d958c54c6e35  You, sir, are my hero. Any chance you remember...      0   \n",
       "\n",
       "   severe_toxic  obscene  threat  insult  identity_hate  \n",
       "0             0        0       0       0              0  \n",
       "1             0        0       0       0              0  \n",
       "2             0        0       0       0              0  \n",
       "3             0        0       0       0              0  \n",
       "4             0        0       0       0              0  "
      ]
     },
     "metadata": {},
     "output_type": "display_data"
    }
   ],
   "source": [
    "display(dataset.head())"
   ]
  },
  {
   "cell_type": "markdown",
   "metadata": {},
   "source": [
    "# Data Cleaning\n",
    "In this section, we clean the dataset for further analysis"
   ]
  },
  {
   "cell_type": "markdown",
   "metadata": {},
   "source": [
    "### Aggregate to Binary Classification\n",
    "Here we combine all toxic classification into one general classification"
   ]
  },
  {
   "cell_type": "code",
   "execution_count": 133,
   "metadata": {},
   "outputs": [
    {
     "data": {
      "text/html": [
       "<div>\n",
       "<style scoped>\n",
       "    .dataframe tbody tr th:only-of-type {\n",
       "        vertical-align: middle;\n",
       "    }\n",
       "\n",
       "    .dataframe tbody tr th {\n",
       "        vertical-align: top;\n",
       "    }\n",
       "\n",
       "    .dataframe thead th {\n",
       "        text-align: right;\n",
       "    }\n",
       "</style>\n",
       "<table border=\"1\" class=\"dataframe\">\n",
       "  <thead>\n",
       "    <tr style=\"text-align: right;\">\n",
       "      <th></th>\n",
       "      <th>id</th>\n",
       "      <th>comment_text</th>\n",
       "      <th>toxic</th>\n",
       "    </tr>\n",
       "  </thead>\n",
       "  <tbody>\n",
       "    <tr>\n",
       "      <th>200</th>\n",
       "      <td>007f127033d66db5</td>\n",
       "      <td>\"\\n\\n Link to Sacramento \\n\\nI placed a wikipe...</td>\n",
       "      <td>0</td>\n",
       "    </tr>\n",
       "    <tr>\n",
       "      <th>201</th>\n",
       "      <td>007f1839ada915e6</td>\n",
       "      <td>Your blatant POV pushing \\n\\nNeither of you gu...</td>\n",
       "      <td>1</td>\n",
       "    </tr>\n",
       "    <tr>\n",
       "      <th>202</th>\n",
       "      <td>00803f08f55bdcad</td>\n",
       "      <td>\"\\nReliable sources indicate otherwise. Please...</td>\n",
       "      <td>0</td>\n",
       "    </tr>\n",
       "    <tr>\n",
       "      <th>203</th>\n",
       "      <td>008198c5a9d85a8e</td>\n",
       "      <td>I did research thank you very much, and it is ...</td>\n",
       "      <td>0</td>\n",
       "    </tr>\n",
       "    <tr>\n",
       "      <th>204</th>\n",
       "      <td>00822d0d01752c7e</td>\n",
       "      <td>\"\\n\\nA \"\"TotallyDisputed\"\" notice would probab...</td>\n",
       "      <td>0</td>\n",
       "    </tr>\n",
       "  </tbody>\n",
       "</table>\n",
       "</div>"
      ],
      "text/plain": [
       "                   id                                       comment_text  \\\n",
       "200  007f127033d66db5  \"\\n\\n Link to Sacramento \\n\\nI placed a wikipe...   \n",
       "201  007f1839ada915e6  Your blatant POV pushing \\n\\nNeither of you gu...   \n",
       "202  00803f08f55bdcad  \"\\nReliable sources indicate otherwise. Please...   \n",
       "203  008198c5a9d85a8e  I did research thank you very much, and it is ...   \n",
       "204  00822d0d01752c7e  \"\\n\\nA \"\"TotallyDisputed\"\" notice would probab...   \n",
       "\n",
       "     toxic  \n",
       "200      0  \n",
       "201      1  \n",
       "202      0  \n",
       "203      0  \n",
       "204      0  "
      ]
     },
     "metadata": {},
     "output_type": "display_data"
    }
   ],
   "source": [
    "dataset['toxic'] = ((dataset['toxic'] + dataset['severe_toxic'] + dataset['obscene'] + dataset['threat'] + dataset['insult'] + dataset['identity_hate']) > 0).astype(int)\n",
    "dataset = dataset.drop(columns=['severe_toxic', 'threat', 'insult', 'identity_hate', 'obscene','identity_hate'])\n",
    "display(dataset[200:250].head())"
   ]
  },
  {
   "cell_type": "markdown",
   "metadata": {},
   "source": [
    "### A quick look on the dataset\n",
    "* Some contains URLs, newline character, wikitext markup, extra white spaces\n",
    "* Some toxic comments fully contain all-caps words\n",
    "* Most toxic comments contain profanity\n",
    "* Many punctuations and capitalization are not following proper grammar\n",
    "* Some data do not contain any words or letters"
   ]
  },
  {
   "cell_type": "code",
   "execution_count": 136,
   "metadata": {
    "scrolled": true
   },
   "outputs": [
    {
     "data": {
      "text/html": [
       "<div>\n",
       "<style scoped>\n",
       "    .dataframe tbody tr th:only-of-type {\n",
       "        vertical-align: middle;\n",
       "    }\n",
       "\n",
       "    .dataframe tbody tr th {\n",
       "        vertical-align: top;\n",
       "    }\n",
       "\n",
       "    .dataframe thead th {\n",
       "        text-align: right;\n",
       "    }\n",
       "</style>\n",
       "<table border=\"1\" class=\"dataframe\">\n",
       "  <thead>\n",
       "    <tr style=\"text-align: right;\">\n",
       "      <th></th>\n",
       "      <th>toxic</th>\n",
       "      <th>non_toxic</th>\n",
       "    </tr>\n",
       "  </thead>\n",
       "  <tbody>\n",
       "    <tr>\n",
       "      <th>200</th>\n",
       "      <td>Aaron Swartz \\n\\nStop fucking reverting my god...</td>\n",
       "      <td>\"\\n\\n An important message \\n\\nBlock me. I can...</td>\n",
       "    </tr>\n",
       "    <tr>\n",
       "      <th>201</th>\n",
       "      <td>I wish to restate the AN thread as neutral and...</td>\n",
       "      <td>I'm moving this to the talk page.</td>\n",
       "    </tr>\n",
       "    <tr>\n",
       "      <th>202</th>\n",
       "      <td>Why the hell did you fucking write that?! I ca...</td>\n",
       "      <td>\"\\nVery well. I see that consensus has formed ...</td>\n",
       "    </tr>\n",
       "    <tr>\n",
       "      <th>203</th>\n",
       "      <td>My side of the story\\n\\nAttention, douchebags ...</td>\n",
       "      <td>http://www.users.bigpond.com/MONTDALE/page8.ht...</td>\n",
       "    </tr>\n",
       "    <tr>\n",
       "      <th>204</th>\n",
       "      <td>Moral Defense, you slimy toad you.</td>\n",
       "      <td>\"\\nThe organization of sub-topics. Culture is ...</td>\n",
       "    </tr>\n",
       "    <tr>\n",
       "      <th>205</th>\n",
       "      <td>You're biased. I made it a point since I signe...</td>\n",
       "      <td>I don't know the answer to this, but\\n\\nLegall...</td>\n",
       "    </tr>\n",
       "    <tr>\n",
       "      <th>206</th>\n",
       "      <td>well fag... block me. \\n\\nblock me?! oh the wo...</td>\n",
       "      <td>Decesed group members \\n\\nI've seen a few arti...</td>\n",
       "    </tr>\n",
       "    <tr>\n",
       "      <th>207</th>\n",
       "      <td>I'm sorry that I must say this. I have never c...</td>\n",
       "      <td>Fatima bint Asad \\nI noticed you added a large...</td>\n",
       "    </tr>\n",
       "    <tr>\n",
       "      <th>208</th>\n",
       "      <td>Fartsalot56 says f**k you motherclucker!!</td>\n",
       "      <td>\"\\n\\nI added information about Mayor de Blasio...</td>\n",
       "    </tr>\n",
       "    <tr>\n",
       "      <th>209</th>\n",
       "      <td>You must have the lowest IQ of anyone on wikip...</td>\n",
       "      <td>Please stop adding nonsense to Wikipedia. It i...</td>\n",
       "    </tr>\n",
       "    <tr>\n",
       "      <th>210</th>\n",
       "      <td>\"\\n\\n A kitten for you! \\n\\njust becuz ur puss...</td>\n",
       "      <td>Well I will use my user page then, don't tell ...</td>\n",
       "    </tr>\n",
       "    <tr>\n",
       "      <th>211</th>\n",
       "      <td>I know that's not mature. And anyway, that was...</td>\n",
       "      <td>I thought I would offer you some advise aswell...</td>\n",
       "    </tr>\n",
       "    <tr>\n",
       "      <th>212</th>\n",
       "      <td>You are a gay homo. I hope you choke on your p...</td>\n",
       "      <td>Its also expressly against guidelines to sneak...</td>\n",
       "    </tr>\n",
       "    <tr>\n",
       "      <th>213</th>\n",
       "      <td>What a deceptive little creature you are indee...</td>\n",
       "      <td>\"==Deletion of Account==\\n\\nOk Blueboy, \"\"Edit...</td>\n",
       "    </tr>\n",
       "    <tr>\n",
       "      <th>214</th>\n",
       "      <td>F.Y. punk, VidGmr was my homie. It's was due t...</td>\n",
       "      <td>|listas = Sabina of Bavaria</td>\n",
       "    </tr>\n",
       "    <tr>\n",
       "      <th>215</th>\n",
       "      <td>SQGibbon, YOUR MOOTHER SOUNDS TO BE SOME SLIMM...</td>\n",
       "      <td>Bad Redirect \\nPlease remove the redirect from...</td>\n",
       "    </tr>\n",
       "    <tr>\n",
       "      <th>216</th>\n",
       "      <td>Igho Otegheri Deletion\\nWho the hell are you t...</td>\n",
       "      <td>more info \\nThanks for entering this article. ...</td>\n",
       "    </tr>\n",
       "    <tr>\n",
       "      <th>217</th>\n",
       "      <td>ALSO, YOUR MOM GAVE ME HERPES, TELL HER I SAID...</td>\n",
       "      <td>His name was Troy Tedford, not Troy Telford. I...</td>\n",
       "    </tr>\n",
       "    <tr>\n",
       "      <th>218</th>\n",
       "      <td>Stop trolling, zapatancas, calling me a liar m...</td>\n",
       "      <td>It is interesting to note that both aircraft l...</td>\n",
       "    </tr>\n",
       "    <tr>\n",
       "      <th>219</th>\n",
       "      <td>Knock it off! \\n\\nSpinningSpark, quit it! You'...</td>\n",
       "      <td>Thanks for fixing that! Again an exquisite pic...</td>\n",
       "    </tr>\n",
       "    <tr>\n",
       "      <th>220</th>\n",
       "      <td>@: nobody cares about the Fucking Shit like yo...</td>\n",
       "      <td>, and I would like to clamp down on them</td>\n",
       "    </tr>\n",
       "    <tr>\n",
       "      <th>221</th>\n",
       "      <td>The only thing you are persistant at you ugly ...</td>\n",
       "      <td>, and man has also created new words even afte...</td>\n",
       "    </tr>\n",
       "    <tr>\n",
       "      <th>222</th>\n",
       "      <td>WTF? Banned? \\n\\nSome person in a fourm said i...</td>\n",
       "      <td>\"\\nIt's in the History, or more conveniently i...</td>\n",
       "    </tr>\n",
       "    <tr>\n",
       "      <th>223</th>\n",
       "      <td>fuck you \\n\\nMuthafucka ,  you jerk you scum l...</td>\n",
       "      <td>some type and are on a soap box</td>\n",
       "    </tr>\n",
       "    <tr>\n",
       "      <th>224</th>\n",
       "      <td>Look you little cocksucker. I did nothing wron...</td>\n",
       "      <td>\"\\nYes they are indeed.  I've replaced that se...</td>\n",
       "    </tr>\n",
       "    <tr>\n",
       "      <th>225</th>\n",
       "      <td>\"\\n\\nI agree to that. many parts of the articl...</td>\n",
       "      <td>. Anyone can do an in-text search for [2] and ...</td>\n",
       "    </tr>\n",
       "    <tr>\n",
       "      <th>226</th>\n",
       "      <td>No, you are the racist, you goddamn neo-Nazi \\...</td>\n",
       "      <td>Gore response \\n\\nCan anybody find Gore's resp...</td>\n",
       "    </tr>\n",
       "    <tr>\n",
       "      <th>227</th>\n",
       "      <td>==  good grief.  can you read?\\n\\nwhy don't yo...</td>\n",
       "      <td>Pls give a reply, yes or no.</td>\n",
       "    </tr>\n",
       "    <tr>\n",
       "      <th>228</th>\n",
       "      <td>What the fuck gose here</td>\n",
       "      <td>\"\\n\\nNeither of the two added cites support th...</td>\n",
       "    </tr>\n",
       "    <tr>\n",
       "      <th>229</th>\n",
       "      <td>You\\nYou're a little bitch. You can't handle a...</td>\n",
       "      <td>\"*a short summary of referencing essentials\\nF...</td>\n",
       "    </tr>\n",
       "    <tr>\n",
       "      <th>230</th>\n",
       "      <td>You are a fool if you think Wikipedia is a res...</td>\n",
       "      <td>For your information, you have already been re...</td>\n",
       "    </tr>\n",
       "    <tr>\n",
       "      <th>231</th>\n",
       "      <td>mostly burtalbert you fucking asshole go suck ...</td>\n",
       "      <td>Same for File:SeanKilpatrick2014.jpg and File:...</td>\n",
       "    </tr>\n",
       "    <tr>\n",
       "      <th>232</th>\n",
       "      <td>I had enough of *you*, bastard.</td>\n",
       "      <td>Y r we doing this: Pat</td>\n",
       "    </tr>\n",
       "    <tr>\n",
       "      <th>233</th>\n",
       "      <td>\"\\n\\n Some baklava for you! \\n\\n  Fuck . =)   \"</td>\n",
       "      <td>\"\\nThanks for the copy-edit, OMG it reads so p...</td>\n",
       "    </tr>\n",
       "    <tr>\n",
       "      <th>234</th>\n",
       "      <td>Vandalism spree\\nYour vandalism spree is pitif...</td>\n",
       "      <td>\"#if:|==  ==|}}\\n{| width=\"\"100%\"\" style=\"\"bac...</td>\n",
       "    </tr>\n",
       "    <tr>\n",
       "      <th>235</th>\n",
       "      <td>THIS IS MY PAGE FUCKERS SO I CAN SAY WHAT I WA...</td>\n",
       "      <td>\"\\n\\n14.07.09 \"\"I don't know how that got to b...</td>\n",
       "    </tr>\n",
       "    <tr>\n",
       "      <th>236</th>\n",
       "      <td>Scope\\nPlease see the link above, as I'm sure ...</td>\n",
       "      <td>Citation Rèf.:Saumur v. The City of Quebec [19...</td>\n",
       "    </tr>\n",
       "    <tr>\n",
       "      <th>237</th>\n",
       "      <td>hey wiki nerd  \\n\\nu suck man i dont like your...</td>\n",
       "      <td>Education \\n\\nPLEASE keep the list of colleges...</td>\n",
       "    </tr>\n",
       "    <tr>\n",
       "      <th>238</th>\n",
       "      <td>YOU ARE A MOTHJER FUCKER COCKSUCKER! YOU ARE A...</td>\n",
       "      <td>. Until you find the way to put the 25 cites t...</td>\n",
       "    </tr>\n",
       "    <tr>\n",
       "      <th>239</th>\n",
       "      <td>MOTHERFUCKER, DONT BE CHANGING THE FUCKING GTA...</td>\n",
       "      <td>We descendants of Otman Baba trough Mehmed Ali...</td>\n",
       "    </tr>\n",
       "    <tr>\n",
       "      <th>240</th>\n",
       "      <td>FUCK YOU, YOU PARANOID BITCH!!! \\n\\nYOU ARE a ...</td>\n",
       "      <td>Could you clarify?  Do you want me to start an...</td>\n",
       "    </tr>\n",
       "    <tr>\n",
       "      <th>241</th>\n",
       "      <td>please stop vandalising my page cunt</td>\n",
       "      <td>\"\\n\\n You beat me to it. \\n\\nJust wanted to sa...</td>\n",
       "    </tr>\n",
       "    <tr>\n",
       "      <th>242</th>\n",
       "      <td>\"\\nThat was a nice message on my talk page. I ...</td>\n",
       "      <td>You removed the link to the same references us...</td>\n",
       "    </tr>\n",
       "    <tr>\n",
       "      <th>243</th>\n",
       "      <td>\"\\nMFNickster, I am not sure if you have ever ...</td>\n",
       "      <td>Thanks for that. I'll take a deep breath and h...</td>\n",
       "    </tr>\n",
       "    <tr>\n",
       "      <th>244</th>\n",
       "      <td>YOU HAVE ABUSE LOGS THAT ARE LOGS OF ABUSE TO ...</td>\n",
       "      <td>German Article of the day\\n\\nDear Jimbo, Germa...</td>\n",
       "    </tr>\n",
       "    <tr>\n",
       "      <th>245</th>\n",
       "      <td>Let's see...which one of us is making personal...</td>\n",
       "      <td>I agree, like I aready have stated, that this ...</td>\n",
       "    </tr>\n",
       "    <tr>\n",
       "      <th>246</th>\n",
       "      <td>HOW ABOUT A LITTLE FIRE, NATE!  (Throws fireba...</td>\n",
       "      <td>I found one!  Sort of, anyhow.  The web site f...</td>\n",
       "    </tr>\n",
       "    <tr>\n",
       "      <th>247</th>\n",
       "      <td>It's in spanish but it's the truth, If you don...</td>\n",
       "      <td>\"\\n\\nI have provided plenty of reference mater...</td>\n",
       "    </tr>\n",
       "    <tr>\n",
       "      <th>248</th>\n",
       "      <td>You fascit Nazi! You socialist bastard! You fi...</td>\n",
       "      <td>Block evading IP blocked. Guy ()</td>\n",
       "    </tr>\n",
       "    <tr>\n",
       "      <th>249</th>\n",
       "      <td>User:NHRHS2010 is a homo like mitt romney is. ...</td>\n",
       "      <td>I see that it has a number of  citations on Pu...</td>\n",
       "    </tr>\n",
       "  </tbody>\n",
       "</table>\n",
       "</div>"
      ],
      "text/plain": [
       "                                                 toxic  \\\n",
       "200  Aaron Swartz \\n\\nStop fucking reverting my god...   \n",
       "201  I wish to restate the AN thread as neutral and...   \n",
       "202  Why the hell did you fucking write that?! I ca...   \n",
       "203  My side of the story\\n\\nAttention, douchebags ...   \n",
       "204                 Moral Defense, you slimy toad you.   \n",
       "205  You're biased. I made it a point since I signe...   \n",
       "206  well fag... block me. \\n\\nblock me?! oh the wo...   \n",
       "207  I'm sorry that I must say this. I have never c...   \n",
       "208          Fartsalot56 says f**k you motherclucker!!   \n",
       "209  You must have the lowest IQ of anyone on wikip...   \n",
       "210  \"\\n\\n A kitten for you! \\n\\njust becuz ur puss...   \n",
       "211  I know that's not mature. And anyway, that was...   \n",
       "212  You are a gay homo. I hope you choke on your p...   \n",
       "213  What a deceptive little creature you are indee...   \n",
       "214  F.Y. punk, VidGmr was my homie. It's was due t...   \n",
       "215  SQGibbon, YOUR MOOTHER SOUNDS TO BE SOME SLIMM...   \n",
       "216  Igho Otegheri Deletion\\nWho the hell are you t...   \n",
       "217  ALSO, YOUR MOM GAVE ME HERPES, TELL HER I SAID...   \n",
       "218  Stop trolling, zapatancas, calling me a liar m...   \n",
       "219  Knock it off! \\n\\nSpinningSpark, quit it! You'...   \n",
       "220  @: nobody cares about the Fucking Shit like yo...   \n",
       "221  The only thing you are persistant at you ugly ...   \n",
       "222  WTF? Banned? \\n\\nSome person in a fourm said i...   \n",
       "223  fuck you \\n\\nMuthafucka ,  you jerk you scum l...   \n",
       "224  Look you little cocksucker. I did nothing wron...   \n",
       "225  \"\\n\\nI agree to that. many parts of the articl...   \n",
       "226  No, you are the racist, you goddamn neo-Nazi \\...   \n",
       "227  ==  good grief.  can you read?\\n\\nwhy don't yo...   \n",
       "228                            What the fuck gose here   \n",
       "229  You\\nYou're a little bitch. You can't handle a...   \n",
       "230  You are a fool if you think Wikipedia is a res...   \n",
       "231  mostly burtalbert you fucking asshole go suck ...   \n",
       "232                    I had enough of *you*, bastard.   \n",
       "233    \"\\n\\n Some baklava for you! \\n\\n  Fuck . =)   \"   \n",
       "234  Vandalism spree\\nYour vandalism spree is pitif...   \n",
       "235  THIS IS MY PAGE FUCKERS SO I CAN SAY WHAT I WA...   \n",
       "236  Scope\\nPlease see the link above, as I'm sure ...   \n",
       "237  hey wiki nerd  \\n\\nu suck man i dont like your...   \n",
       "238  YOU ARE A MOTHJER FUCKER COCKSUCKER! YOU ARE A...   \n",
       "239  MOTHERFUCKER, DONT BE CHANGING THE FUCKING GTA...   \n",
       "240  FUCK YOU, YOU PARANOID BITCH!!! \\n\\nYOU ARE a ...   \n",
       "241               please stop vandalising my page cunt   \n",
       "242  \"\\nThat was a nice message on my talk page. I ...   \n",
       "243  \"\\nMFNickster, I am not sure if you have ever ...   \n",
       "244  YOU HAVE ABUSE LOGS THAT ARE LOGS OF ABUSE TO ...   \n",
       "245  Let's see...which one of us is making personal...   \n",
       "246  HOW ABOUT A LITTLE FIRE, NATE!  (Throws fireba...   \n",
       "247  It's in spanish but it's the truth, If you don...   \n",
       "248  You fascit Nazi! You socialist bastard! You fi...   \n",
       "249  User:NHRHS2010 is a homo like mitt romney is. ...   \n",
       "\n",
       "                                             non_toxic  \n",
       "200  \"\\n\\n An important message \\n\\nBlock me. I can...  \n",
       "201                  I'm moving this to the talk page.  \n",
       "202  \"\\nVery well. I see that consensus has formed ...  \n",
       "203  http://www.users.bigpond.com/MONTDALE/page8.ht...  \n",
       "204  \"\\nThe organization of sub-topics. Culture is ...  \n",
       "205  I don't know the answer to this, but\\n\\nLegall...  \n",
       "206  Decesed group members \\n\\nI've seen a few arti...  \n",
       "207  Fatima bint Asad \\nI noticed you added a large...  \n",
       "208  \"\\n\\nI added information about Mayor de Blasio...  \n",
       "209  Please stop adding nonsense to Wikipedia. It i...  \n",
       "210  Well I will use my user page then, don't tell ...  \n",
       "211  I thought I would offer you some advise aswell...  \n",
       "212  Its also expressly against guidelines to sneak...  \n",
       "213  \"==Deletion of Account==\\n\\nOk Blueboy, \"\"Edit...  \n",
       "214                        |listas = Sabina of Bavaria  \n",
       "215  Bad Redirect \\nPlease remove the redirect from...  \n",
       "216  more info \\nThanks for entering this article. ...  \n",
       "217  His name was Troy Tedford, not Troy Telford. I...  \n",
       "218  It is interesting to note that both aircraft l...  \n",
       "219  Thanks for fixing that! Again an exquisite pic...  \n",
       "220           , and I would like to clamp down on them  \n",
       "221  , and man has also created new words even afte...  \n",
       "222  \"\\nIt's in the History, or more conveniently i...  \n",
       "223                    some type and are on a soap box  \n",
       "224  \"\\nYes they are indeed.  I've replaced that se...  \n",
       "225  . Anyone can do an in-text search for [2] and ...  \n",
       "226  Gore response \\n\\nCan anybody find Gore's resp...  \n",
       "227                       Pls give a reply, yes or no.  \n",
       "228  \"\\n\\nNeither of the two added cites support th...  \n",
       "229  \"*a short summary of referencing essentials\\nF...  \n",
       "230  For your information, you have already been re...  \n",
       "231  Same for File:SeanKilpatrick2014.jpg and File:...  \n",
       "232                             Y r we doing this: Pat  \n",
       "233  \"\\nThanks for the copy-edit, OMG it reads so p...  \n",
       "234  \"#if:|==  ==|}}\\n{| width=\"\"100%\"\" style=\"\"bac...  \n",
       "235  \"\\n\\n14.07.09 \"\"I don't know how that got to b...  \n",
       "236  Citation Rèf.:Saumur v. The City of Quebec [19...  \n",
       "237  Education \\n\\nPLEASE keep the list of colleges...  \n",
       "238  . Until you find the way to put the 25 cites t...  \n",
       "239  We descendants of Otman Baba trough Mehmed Ali...  \n",
       "240  Could you clarify?  Do you want me to start an...  \n",
       "241  \"\\n\\n You beat me to it. \\n\\nJust wanted to sa...  \n",
       "242  You removed the link to the same references us...  \n",
       "243  Thanks for that. I'll take a deep breath and h...  \n",
       "244  German Article of the day\\n\\nDear Jimbo, Germa...  \n",
       "245  I agree, like I aready have stated, that this ...  \n",
       "246  I found one!  Sort of, anyhow.  The web site f...  \n",
       "247  \"\\n\\nI have provided plenty of reference mater...  \n",
       "248                   Block evading IP blocked. Guy ()  \n",
       "249  I see that it has a number of  citations on Pu...  "
      ]
     },
     "metadata": {},
     "output_type": "display_data"
    }
   ],
   "source": [
    "toxic_samples = pd.DataFrame( dataset[dataset['toxic'] == 1]['comment_text'].reset_index(drop=True))\n",
    "toxic_samples.rename(columns = {'comment_text': 'toxic'}, inplace = True)\n",
    "non_toxic_samples = pd.DataFrame(dataset[dataset['toxic'] == 0]['comment_text'].reset_index(drop=True))\n",
    "non_toxic_samples.rename(columns = {'comment_text': 'non_toxic'}, inplace = True)\n",
    "comments = pd.concat([toxic_samples[200:250], non_toxic_samples[200:250]], axis=1)\n",
    "display(comments)"
   ]
  },
  {
   "cell_type": "code",
   "execution_count": 137,
   "metadata": {
    "scrolled": true
   },
   "outputs": [
    {
     "data": {
      "text/plain": [
       "'\"#if:|==  ==|}}\\n{| width=\"\"100%\"\" style=\"\"background:transparent\"\"\\n{| width=\"\"100%\"\" style=\"\"background-color:#\"\"\\n|style=\"\"width: 50%; border:1px solid #; background-color:#; vertical-align:top\"\"|\\n Hello, Lceliku, and Welcome to Wikipedia!\\nPlease remember to sign your name on talk pages by clicking  or using four tildes (~~~~); this will automatically produce your username and the date. Also, please do your best to always fill in the edit summary field. Below are some useful links to facilitate your involvement.\\nHappy editing!   \\n{| width=\"\"100%\"\" style=\"\"background-color:#\"\"\\n|style=\"\"width: 50%; border:0; background-color:#; vertical-align:top\"\"|\\n Getting started Introduction\\n The five pillars of Wikipedia\\n How to edit a page\\n Intuitive guide to Wikipedia Finding your way around Table of contents\\n Department directory Editing articles How to develop an article\\n Manual of Style\\n|style=\"\"width: 50%; border:0; background-color:#; vertical-align:top\"\"|\\n{| width=\"\"100%\"\" cellpadding=\"\"2\"\" style=\"\"vertical-align:top; background-color:#\"\"\\n! Getting help\\n|-\\n|style=\"\"color:#000\"\"|\\n Frequently asked questions\\n Cheatsheet\\n Where to ask a question\\n Help pages\\n New contributors\\' help page\\n Article Wizard - a Wizard to help you create articles\\n|-\\n!'"
      ]
     },
     "metadata": {},
     "output_type": "display_data"
    }
   ],
   "source": [
    "display(non_toxic_samples['non_toxic'][234])"
   ]
  },
  {
   "cell_type": "markdown",
   "metadata": {},
   "source": [
    "### Noise removal\n",
    "Here we remove texts that will not be processing\n",
    "* Disregard rows with Wiki markup\n",
    "* Remove URLs\n",
    "* Remove extra white spaces and newline characters\n",
    "* Remove data that doesn't contain any letter"
   ]
  },
  {
   "cell_type": "code",
   "execution_count": 208,
   "metadata": {},
   "outputs": [],
   "source": [
    "import re\n",
    "clean_dataset = dataset\n",
    "markups = clean_dataset[clean_dataset['comment_text'].str.contains(\"style=\")].index\n",
    "clean_dataset.drop(markups , inplace=True)\n",
    "clean_dataset = clean_dataset.reset_index(drop=True)\n",
    "clean_dataset =  clean_dataset[clean_dataset['comment_text'].str.contains('[A-Za-z]')]\n",
    "clean_dataset['comment_text'] = clean_dataset['comment_text'].apply(lambda text: re.sub(r'http\\S+', ' ', text))\n",
    "clean_dataset['comment_text'] = clean_dataset['comment_text'].apply(lambda text: re.sub(r'^\\s*|\\s\\s*', ' ', text).strip())"
   ]
  },
  {
   "cell_type": "code",
   "execution_count": 209,
   "metadata": {},
   "outputs": [],
   "source": [
    "clean_dataset.to_csv('clean_dataset.csv', index=False)"
   ]
  },
  {
   "cell_type": "markdown",
   "metadata": {},
   "source": [
    "# Data Exploration"
   ]
  },
  {
   "cell_type": "code",
   "execution_count": 232,
   "metadata": {},
   "outputs": [],
   "source": [
    "dataset = pd.read_csv('clean_dataset.csv', error_bad_lines=False).fillna(' ')"
   ]
  },
  {
   "cell_type": "markdown",
   "metadata": {},
   "source": [
    "### Dominant Class\n",
    "* The comments are predominantly non-toxic"
   ]
  },
  {
   "cell_type": "code",
   "execution_count": 241,
   "metadata": {},
   "outputs": [
    {
     "data": {
      "text/plain": [
       "<matplotlib.axes._subplots.AxesSubplot at 0x197942499a0>"
      ]
     },
     "execution_count": 241,
     "metadata": {},
     "output_type": "execute_result"
    },
    {
     "data": {
      "image/png": "[encoded data removed]",
      "text/plain": [
       "<Figure size 720x480 with 1 Axes>"
      ]
     },
     "metadata": {
      "needs_background": "light"
     },
     "output_type": "display_data"
    }
   ],
   "source": [
    "import matplotlib.pyplot as plt\n",
    "fig, ax = plt.subplots(figsize=(6,4), dpi=120)\n",
    "dataset.groupby('toxic')['toxic'].count().plot(kind='barh', ax=ax)"
   ]
  },
  {
   "cell_type": "markdown",
   "metadata": {},
   "source": [
    "## Preprocessing Pipelines"
   ]
  },
  {
   "cell_type": "code",
   "execution_count": 255,
   "metadata": {},
   "outputs": [
    {
     "data": {
      "text/html": [
       "<div>\n",
       "<style scoped>\n",
       "    .dataframe tbody tr th:only-of-type {\n",
       "        vertical-align: middle;\n",
       "    }\n",
       "\n",
       "    .dataframe tbody tr th {\n",
       "        vertical-align: top;\n",
       "    }\n",
       "\n",
       "    .dataframe thead th {\n",
       "        text-align: right;\n",
       "    }\n",
       "</style>\n",
       "<table border=\"1\" class=\"dataframe\">\n",
       "  <thead>\n",
       "    <tr style=\"text-align: right;\">\n",
       "      <th></th>\n",
       "      <th>id</th>\n",
       "      <th>comment_text</th>\n",
       "      <th>toxic</th>\n",
       "    </tr>\n",
       "  </thead>\n",
       "  <tbody>\n",
       "    <tr>\n",
       "      <th>0</th>\n",
       "      <td>0000997932d777bf</td>\n",
       "      <td>Explanation Why the edits made under my userna...</td>\n",
       "      <td>0</td>\n",
       "    </tr>\n",
       "    <tr>\n",
       "      <th>1</th>\n",
       "      <td>000103f0d9cfb60f</td>\n",
       "      <td>D'aww! He matches this background colour I'm s...</td>\n",
       "      <td>0</td>\n",
       "    </tr>\n",
       "    <tr>\n",
       "      <th>2</th>\n",
       "      <td>000113f07ec002fd</td>\n",
       "      <td>Hey man, I'm really not trying to edit war. It...</td>\n",
       "      <td>0</td>\n",
       "    </tr>\n",
       "    <tr>\n",
       "      <th>3</th>\n",
       "      <td>0001b41b1c6bb37e</td>\n",
       "      <td>\" More I can't make any real suggestions on im...</td>\n",
       "      <td>0</td>\n",
       "    </tr>\n",
       "    <tr>\n",
       "      <th>4</th>\n",
       "      <td>0001d958c54c6e35</td>\n",
       "      <td>You, sir, are my hero. Any chance you remember...</td>\n",
       "      <td>0</td>\n",
       "    </tr>\n",
       "  </tbody>\n",
       "</table>\n",
       "</div>"
      ],
      "text/plain": [
       "                 id                                       comment_text  toxic\n",
       "0  0000997932d777bf  Explanation Why the edits made under my userna...      0\n",
       "1  000103f0d9cfb60f  D'aww! He matches this background colour I'm s...      0\n",
       "2  000113f07ec002fd  Hey man, I'm really not trying to edit war. It...      0\n",
       "3  0001b41b1c6bb37e  \" More I can't make any real suggestions on im...      0\n",
       "4  0001d958c54c6e35  You, sir, are my hero. Any chance you remember...      0"
      ]
     },
     "metadata": {},
     "output_type": "display_data"
    }
   ],
   "source": [
    "dataset = pd.read_csv('clean_dataset.csv', error_bad_lines=False).fillna(' ')\n",
    "display(dataset.head())"
   ]
  },
  {
   "cell_type": "markdown",
   "metadata": {},
   "source": [
    "#### Preprocessing techniques"
   ]
  },
  {
   "cell_type": "code",
   "execution_count": 277,
   "metadata": {},
   "outputs": [],
   "source": [
    "import nltk\n",
    "from nltk.tokenize import word_tokenize\n",
    "import unicodedata\n",
    "import string\n",
    "import contractions\n",
    "from nltk import pos_tag\n",
    "from nltk.stem import WordNetLemmatizer \n",
    "lemmatizer = WordNetLemmatizer() \n",
    "\n",
    "def remove_special_characters(text):\n",
    "    return re.sub(r'[^a-zA-z0-9.,*!?/:;\\\"\\'\\s]', '', text)\n",
    "def casefolding(text):\n",
    "    return ''.join(word.lower() for word in text)\n",
    "def remove_punc(text):\n",
    "    return ''.join([word for word in text if word not in string.punctuation])\n",
    "def tokenize(text):\n",
    "    return word_tokenize(text)\n",
    "\n",
    "def remove_special_characters(text):\n",
    "    return re.sub(r'[^a-zA-z0-9.,!?/:;\\\"\\'\\s]', '', text)\n",
    "def remove_numbers(text):\n",
    "    return re.sub(r'[^a-zA-z.,!?/:;\\\"\\'\\s]' , '', text)\n",
    "def remove_extra_white_spaces(text):\n",
    "    return re.sub(r'^\\s*|\\s\\s*', ' ', text).strip()\n",
    "def convert_accented_characters(text):\n",
    "    return unicodedata.normalize('NFKD', text).encode('ascii', 'ignore').decode('utf-8', 'ignore')\n",
    "def expand_contractions(text):\n",
    "    return contractions.fix(text)\n",
    "def lowercase(text):\n",
    "    return ''.join(word.lower() for word in text)\n",
    "def remove_punc(text):\n",
    "    return ''.join([word for word in text if word not in string.punctuation])\n",
    "\n",
    "def tokenize(text):\n",
    "    return nltk.word_tokenize(text)\n",
    "\n",
    "def lemmatize(text):\n",
    "    new_text = []\n",
    "    for word, tag in pos_tag(text):\n",
    "        new_text.append(lemmatizer.lemmatize(word))\n",
    "    return ' '.join(new_text)\n",
    "\n",
    "def remove_stop\n",
    "\n",
    "def lemmatize_and_filter_1(text):\n",
    "    new_text = []\n",
    "    for word, tag in pos_tag(text):\n",
    "        if tag.startswith(\"NN\"):\n",
    "            new_text.append(lemmatizer.lemmatize(word, pos='n'))\n",
    "    return lowercase(' '.join(new_text))\n",
    "\n",
    "def lemmatize_and_filter_2(text):\n",
    "    new_text = []\n",
    "    for word, tag in pos_tag(text):\n",
    "        if tag.startswith(\"NN\"):\n",
    "            new_text.append(lemmatizer.lemmatize(word, pos='n'))\n",
    "        elif tag.startswith('VB'):\n",
    "            new_text.append(lemmatizer.lemmatize(word, pos='v'))\n",
    "    return lowercase(' '.join(new_text))\n",
    "\n",
    "def lemmatize_and_filter_3(text):\n",
    "    new_text = []\n",
    "    for word, tag in pos_tag(text):\n",
    "        if tag.startswith(\"ADJ\"):\n",
    "            new_text.append(lemmatizer.lemmatize(word, pos='n'))\n",
    "        elif tag.startswith('VB'):\n",
    "            new_text.append(lemmatizer.lemmatize(word, pos='v'))\n",
    "        elif tag.startswith('JJ'):\n",
    "            new_text.append(lemmatizer.lemmatize(word, pos='a'))\n",
    "    return lowercase(' '.join(new_text))"
   ]
  },
  {
   "cell_type": "code",
   "execution_count": 274,
   "metadata": {},
   "outputs": [],
   "source": [
    "dataset_processed = dataset\n",
    "dataset_processed['clean'] = dataset_processed['comment_text'].apply(lambda text: convert_accented_characters(text))\n",
    "dataset_processed['clean'] = dataset_processed['clean'].apply(lambda text: remove_special_characters(text))\n",
    "dataset_processed['clean'] = dataset_processed['clean'].apply(lambda text: remove_numbers(text))\n",
    "dataset_processed['clean'] = dataset_processed['clean'].apply(lambda text: remove_punc(text))\n",
    "dataset_processed['clean'] = dataset_processed['clean'].apply(lambda text: expand_contractions(text))\n",
    "dataset_processed['clean'] = dataset_processed['clean'].apply(lambda text: lowercase(text))\n",
    "dataset_processed['clean'] = dataset_processed['clean'].apply(lambda text: remove_extra_white_spaces(text))"
   ]
  },
  {
   "cell_type": "code",
   "execution_count": 275,
   "metadata": {},
   "outputs": [],
   "source": [
    "dataset_processed['tokenized'] = dataset_processed['clean'].apply(lambda text: tokenize(text))"
   ]
  },
  {
   "cell_type": "code",
   "execution_count": 279,
   "metadata": {},
   "outputs": [],
   "source": [
    "dataset_processed['lem'] =  dataset_processed['tokenized'].apply(lambda text: lemmatize(text))\n",
    "dataset_processed['lem1'] =  dataset_processed['tokenized'].apply(lambda text: lemmatize_and_filter_1(text))\n",
    "dataset_processed['lem2'] =  dataset_processed['tokenized'].apply(lambda text: lemmatize_and_filter_2(text))\n",
    "dataset_processed['lem3'] =  dataset_processed['tokenized'].apply(lambda text: lemmatize_and_filter_3(text))"
   ]
  },
  {
   "cell_type": "code",
   "execution_count": 281,
   "metadata": {},
   "outputs": [],
   "source": [
    "dataset_processed.to_csv('processed.csv', index=False)"
   ]
  },
  {
   "cell_type": "markdown",
   "metadata": {},
   "source": [
    "# Split Train and Test Sets"
   ]
  },
  {
   "cell_type": "code",
   "execution_count": 315,
   "metadata": {},
   "outputs": [
    {
     "data": {
      "text/plain": [
       "111423"
      ]
     },
     "metadata": {},
     "output_type": "display_data"
    },
    {
     "data": {
      "text/plain": [
       "47754"
      ]
     },
     "metadata": {},
     "output_type": "display_data"
    }
   ],
   "source": [
    "from sklearn.model_selection import train_test_split\n",
    "\n",
    "df = pd.read_csv('processed.csv',error_bad_lines=False).fillna(' ')\n",
    "df.drop(columns=['id', 'comment_text', 'clean', 'tokenized'], inplace = True)\n",
    "X_train, X_test, y_train, y_test = train_test_split(df['lem'], df['toxic'], train_size=0.70,test_size=0.30, random_state=101)\n",
    "display(len(X_train))\n",
    "display(len(X_test))"
   ]
  },
  {
   "cell_type": "code",
   "execution_count": 316,
   "metadata": {},
   "outputs": [],
   "source": [
    "# Shuffle the dataset\n",
    "df = df.sample(frac=1)\n",
    "df_train = df[0:111423]\n",
    "df_test = df[111423:]"
   ]
  },
  {
   "cell_type": "code",
   "execution_count": 328,
   "metadata": {},
   "outputs": [
    {
     "data": {
      "text/html": [
       "<div>\n",
       "<style scoped>\n",
       "    .dataframe tbody tr th:only-of-type {\n",
       "        vertical-align: middle;\n",
       "    }\n",
       "\n",
       "    .dataframe tbody tr th {\n",
       "        vertical-align: top;\n",
       "    }\n",
       "\n",
       "    .dataframe thead th {\n",
       "        text-align: right;\n",
       "    }\n",
       "</style>\n",
       "<table border=\"1\" class=\"dataframe\">\n",
       "  <thead>\n",
       "    <tr style=\"text-align: right;\">\n",
       "      <th></th>\n",
       "      <th>toxic</th>\n",
       "      <th>lem</th>\n",
       "      <th>lem1</th>\n",
       "      <th>lem2</th>\n",
       "      <th>lem3</th>\n",
       "    </tr>\n",
       "  </thead>\n",
       "  <tbody>\n",
       "    <tr>\n",
       "      <th>100167</th>\n",
       "      <td>0</td>\n",
       "      <td>hello tryptofish i am soapcooker</td>\n",
       "      <td>tryptofish i soapcooker</td>\n",
       "      <td>tryptofish i be soapcooker</td>\n",
       "      <td>hello tryptofish i be soapcooker</td>\n",
       "    </tr>\n",
       "    <tr>\n",
       "      <th>112296</th>\n",
       "      <td>0</td>\n",
       "      <td>hello ensiform i am not impressed by the dozen...</td>\n",
       "      <td>hello ensiform i dozen book amazon reason rese...</td>\n",
       "      <td>hello ensiform i be impress dozen book amazon ...</td>\n",
       "      <td>hello ensiform i be impress dozen book amazon ...</td>\n",
       "    </tr>\n",
       "    <tr>\n",
       "      <th>101495</th>\n",
       "      <td>0</td>\n",
       "      <td>yeah i did not think i saw any of the crow tea...</td>\n",
       "      <td>yeah i i crow team detonation someone subject ...</td>\n",
       "      <td>yeah i do think i saw crow team get detonation...</td>\n",
       "      <td>yeah i do think i saw crow team get shot pj nu...</td>\n",
       "    </tr>\n",
       "    <tr>\n",
       "      <th>152561</th>\n",
       "      <td>1</td>\n",
       "      <td>lay off back off reverting my letter to newyor...</td>\n",
       "      <td>letter jerk</td>\n",
       "      <td>lay revert letter newyorkbrad jerk do have get</td>\n",
       "      <td>lay revert letter newyorkbrad jerk do have get...</td>\n",
       "    </tr>\n",
       "    <tr>\n",
       "      <th>46653</th>\n",
       "      <td>0</td>\n",
       "      <td>parafnfal hey i wa wondering where you got ima...</td>\n",
       "      <td>parafnfal hey i i fal page id</td>\n",
       "      <td>parafnfal hey i be wonder get i have see fal r...</td>\n",
       "      <td>parafnfal hey i be wonder get imagemodernparaf...</td>\n",
       "    </tr>\n",
       "  </tbody>\n",
       "</table>\n",
       "</div>"
      ],
      "text/plain": [
       "        toxic                                                lem  \\\n",
       "100167      0                   hello tryptofish i am soapcooker   \n",
       "112296      0  hello ensiform i am not impressed by the dozen...   \n",
       "101495      0  yeah i did not think i saw any of the crow tea...   \n",
       "152561      1  lay off back off reverting my letter to newyor...   \n",
       "46653       0  parafnfal hey i wa wondering where you got ima...   \n",
       "\n",
       "                                                     lem1  \\\n",
       "100167                            tryptofish i soapcooker   \n",
       "112296  hello ensiform i dozen book amazon reason rese...   \n",
       "101495  yeah i i crow team detonation someone subject ...   \n",
       "152561                                        letter jerk   \n",
       "46653                       parafnfal hey i i fal page id   \n",
       "\n",
       "                                                     lem2  \\\n",
       "100167                         tryptofish i be soapcooker   \n",
       "112296  hello ensiform i be impress dozen book amazon ...   \n",
       "101495  yeah i do think i saw crow team get detonation...   \n",
       "152561     lay revert letter newyorkbrad jerk do have get   \n",
       "46653   parafnfal hey i be wonder get i have see fal r...   \n",
       "\n",
       "                                                     lem3  \n",
       "100167                   hello tryptofish i be soapcooker  \n",
       "112296  hello ensiform i be impress dozen book amazon ...  \n",
       "101495  yeah i do think i saw crow team get shot pj nu...  \n",
       "152561  lay revert letter newyorkbrad jerk do have get...  \n",
       "46653   parafnfal hey i be wonder get imagemodernparaf...  "
      ]
     },
     "metadata": {},
     "output_type": "display_data"
    }
   ],
   "source": [
    "display(df_train.head())"
   ]
  },
  {
   "cell_type": "markdown",
   "metadata": {},
   "source": [
    "# Create diferent BOWs"
   ]
  },
  {
   "cell_type": "code",
   "execution_count": 319,
   "metadata": {},
   "outputs": [],
   "source": [
    "# Initialize count_vectorizer model\n",
    "# Focus on unigrams, removed tokens >0.95 and less than 5 occurences\n",
    "from sklearn.feature_extraction.text import CountVectorizer\n",
    "count_vec = CountVectorizer(max_df=0.95, min_df=5, stop_words='english')\n",
    "\n",
    "bow_train = []\n",
    "bow_test = []\n",
    "for col in df.columns[1:]:\n",
    "    bow_train.append(count_vec.fit_transform(df_train[col]))\n",
    "    bow_test.append(count_vec.transform(df_test[col]))"
   ]
  },
  {
   "cell_type": "markdown",
   "metadata": {},
   "source": [
    "# Establishing the Baseline - What is the score to beat?\n"
   ]
  },
  {
   "cell_type": "markdown",
   "metadata": {},
   "source": [
    "### Baseline 1: Base Rate"
   ]
  },
  {
   "cell_type": "code",
   "execution_count": 320,
   "metadata": {},
   "outputs": [
    {
     "data": {
      "text/plain": [
       "<matplotlib.axes._subplots.AxesSubplot at 0x197912b22e0>"
      ]
     },
     "execution_count": 320,
     "metadata": {},
     "output_type": "execute_result"
    },
    {
     "data": {
      "image/png": "[encoded data removed]",
      "text/plain": [
       "<Figure size 432x288 with 1 Axes>"
      ]
     },
     "metadata": {
      "needs_background": "light"
     },
     "output_type": "display_data"
    }
   ],
   "source": [
    "df_train.groupby('toxic').count()['lem'].plot(kind='barh')"
   ]
  },
  {
   "cell_type": "code",
   "execution_count": 321,
   "metadata": {},
   "outputs": [
    {
     "name": "stdout",
     "output_type": "stream",
     "text": [
      "Baseline (Base Rate): 89.83% Accuracy\n"
     ]
    }
   ],
   "source": [
    "from sklearn.metrics import accuracy_score\n",
    "baseline_pred = [0]*df_train.shape[0]\n",
    "base_rate = accuracy_score(y_true=df_train['toxic'],\n",
    "                           y_pred=[0]*df_train.shape[0])\n",
    "\n",
    "print(f'Baseline (Base Rate): {np.round(100*base_rate,2)}% Accuracy')"
   ]
  },
  {
   "cell_type": "markdown",
   "metadata": {},
   "source": [
    "### Baseline 2: Random Chance Simulation"
   ]
  },
  {
   "cell_type": "code",
   "execution_count": 322,
   "metadata": {},
   "outputs": [
    {
     "name": "stdout",
     "output_type": "stream",
     "text": [
      "Mean Accuracy when Using Random Labeling: 81.73%\n",
      "Standard Deviation: 0.0005533436874676284\n"
     ]
    },
    {
     "data": {
      "text/plain": [
       "[0.8170934187735028,\n",
       " 0.8170754691580733,\n",
       " 0.8174883103129515,\n",
       " 0.8175960080055285,\n",
       " 0.8180806476221247,\n",
       " 0.8168959730037784,\n",
       " 0.8163574845408937,\n",
       " 0.8166446783877656,\n",
       " 0.8180985972375542,\n",
       " 0.8171293180043617]"
      ]
     },
     "execution_count": 322,
     "metadata": {},
     "output_type": "execute_result"
    },
    {
     "data": {
      "image/png": "[encoded data removed]",
      "text/plain": [
       "<Figure size 720x480 with 1 Axes>"
      ]
     },
     "metadata": {
      "needs_background": "light"
     },
     "output_type": "display_data"
    }
   ],
   "source": [
    "random_acc_results = [accuracy_score(y_true=df_train['toxic'],\n",
    "                                     y_pred=df_train['toxic'].sample(frac=1))\n",
    "                      for i in range(2000)]\n",
    "\n",
    "fig, ax = plt.subplots(figsize=(6,4), dpi=120)\n",
    "ax.hist(random_acc_results, bins=20)\n",
    "ax.set_title('Accuracy Distribution Using Random Labeling')\n",
    "ax.set_xlabel('Accuracy')\n",
    "ax.set_ylabel('Frequency')\n",
    "\n",
    "print(f'Mean Accuracy when Using Random Labeling: {np.round(100*np.mean(random_acc_results),2)}%')\n",
    "print(f'Standard Deviation: {np.std(random_acc_results)}')\n",
    "random_acc_results[:10]"
   ]
  },
  {
   "cell_type": "markdown",
   "metadata": {},
   "source": [
    "### Baseline 2: Random Chance PCC Computation¶"
   ]
  },
  {
   "cell_type": "code",
   "execution_count": 323,
   "metadata": {},
   "outputs": [
    {
     "data": {
      "text/plain": [
       "0.8172817635180916"
      ]
     },
     "execution_count": 323,
     "metadata": {},
     "output_type": "execute_result"
    }
   ],
   "source": [
    "base_rate**2 + (1-base_rate)**2"
   ]
  },
  {
   "cell_type": "markdown",
   "metadata": {},
   "source": [
    "# Model the Different BOWs"
   ]
  },
  {
   "cell_type": "code",
   "execution_count": 324,
   "metadata": {},
   "outputs": [],
   "source": [
    "from sklearn.naive_bayes import MultinomialNB\n",
    "models = []\n",
    "model = MultinomialNB()\n",
    "\n",
    "for bow in bow_train:\n",
    "    model = MultinomialNB()\n",
    "    models.append(model.fit(bow, df_train['toxic']))"
   ]
  },
  {
   "cell_type": "markdown",
   "metadata": {},
   "source": [
    "# Validate Results Using Test Set"
   ]
  },
  {
   "cell_type": "markdown",
   "metadata": {},
   "source": [
    "### Accuracy"
   ]
  },
  {
   "cell_type": "code",
   "execution_count": 351,
   "metadata": {},
   "outputs": [
    {
     "data": {
      "image/png": "[encoded data removed]",
      "text/plain": [
       "<Figure size 960x420 with 1 Axes>"
      ]
     },
     "metadata": {
      "needs_background": "light"
     },
     "output_type": "display_data"
    }
   ],
   "source": [
    "acc_results = [accuracy_score(y_true=df_test['toxic'],\n",
    "                              y_pred=model.predict(test_data))\n",
    "               for model, test_data, title in zip(models,\n",
    "                                                  bow_test,\n",
    "                                                  df.columns[1:])]\n"
   ]
  },
  {
   "cell_type": "markdown",
   "metadata": {},
   "source": [
    "### Confusion Matrix"
   ]
  },
  {
   "cell_type": "code",
   "execution_count": 330,
   "metadata": {},
   "outputs": [
    {
     "data": {
      "text/plain": [
       "toxic\n",
       "0    42862\n",
       "1     4892\n",
       "Name: lem, dtype: int64"
      ]
     },
     "metadata": {},
     "output_type": "display_data"
    },
    {
     "data": {
      "image/png": "[encoded data removed]",
      "text/plain": [
       "<Figure size 720x480 with 1 Axes>"
      ]
     },
     "metadata": {
      "needs_background": "light"
     },
     "output_type": "display_data"
    }
   ],
   "source": [
    "fig, ax = plt.subplots(figsize=(6,4), dpi=120)\n",
    "df_test.groupby('toxic').count()['lem'].plot(kind='barh', ax=ax)\n",
    "ax.set_xlabel('Count');\n",
    "ax.set_title('Test Label Distribution')\n",
    "display(df_test.groupby('toxic').count()['lem'])"
   ]
  },
  {
   "cell_type": "code",
   "execution_count": 334,
   "metadata": {},
   "outputs": [
    {
     "data": {
      "image/png": "[encoded data removed]",
      "text/plain": [
       "<Figure size 1200x1200 with 8 Axes>"
      ]
     },
     "metadata": {
      "needs_background": "light"
     },
     "output_type": "display_data"
    }
   ],
   "source": [
    "from sklearn.metrics import confusion_matrix\n",
    "from sklearn.metrics import plot_confusion_matrix\n",
    "\n",
    "fig, ax = plt.subplots(2,2, figsize=(10,10), dpi=120)\n",
    "i = 0\n",
    "for model, test_data, title in zip(models, bow_test, df.columns[1:]):\n",
    "    ax[int(i/2)][i%2].set_title(title)\n",
    "    plot_confusion_matrix(model, test_data, df_test['toxic'], \n",
    "                          ax=ax[int(i/2)][i%2], values_format='d')\n",
    "    i+=1"
   ]
  },
  {
   "cell_type": "markdown",
   "metadata": {},
   "source": [
    "# Precision Recall and F1 Score Across Different Pipelines"
   ]
  },
  {
   "cell_type": "code",
   "execution_count": 340,
   "metadata": {},
   "outputs": [
    {
     "data": {
      "text/html": [
       "<div>\n",
       "<style scoped>\n",
       "    .dataframe tbody tr th:only-of-type {\n",
       "        vertical-align: middle;\n",
       "    }\n",
       "\n",
       "    .dataframe tbody tr th {\n",
       "        vertical-align: top;\n",
       "    }\n",
       "\n",
       "    .dataframe thead th {\n",
       "        text-align: right;\n",
       "    }\n",
       "</style>\n",
       "<table border=\"1\" class=\"dataframe\">\n",
       "  <thead>\n",
       "    <tr style=\"text-align: right;\">\n",
       "      <th></th>\n",
       "      <th>f1</th>\n",
       "      <th>f2</th>\n",
       "      <th>f0.5</th>\n",
       "      <th>precision</th>\n",
       "      <th>recall</th>\n",
       "    </tr>\n",
       "  </thead>\n",
       "  <tbody>\n",
       "    <tr>\n",
       "      <th>pipeline1</th>\n",
       "      <td>0.738408</td>\n",
       "      <td>0.736775</td>\n",
       "      <td>0.740048</td>\n",
       "      <td>0.741145</td>\n",
       "      <td>0.735691</td>\n",
       "    </tr>\n",
       "    <tr>\n",
       "      <th>pipeline2</th>\n",
       "      <td>0.627663</td>\n",
       "      <td>0.575288</td>\n",
       "      <td>0.690530</td>\n",
       "      <td>0.739939</td>\n",
       "      <td>0.544971</td>\n",
       "    </tr>\n",
       "    <tr>\n",
       "      <th>pipeline3</th>\n",
       "      <td>0.702837</td>\n",
       "      <td>0.678586</td>\n",
       "      <td>0.728886</td>\n",
       "      <td>0.747351</td>\n",
       "      <td>0.663328</td>\n",
       "    </tr>\n",
       "    <tr>\n",
       "      <th>pipeline4</th>\n",
       "      <td>0.735016</td>\n",
       "      <td>0.727894</td>\n",
       "      <td>0.742279</td>\n",
       "      <td>0.747202</td>\n",
       "      <td>0.723222</td>\n",
       "    </tr>\n",
       "  </tbody>\n",
       "</table>\n",
       "</div>"
      ],
      "text/plain": [
       "                 f1        f2      f0.5  precision    recall\n",
       "pipeline1  0.738408  0.736775  0.740048   0.741145  0.735691\n",
       "pipeline2  0.627663  0.575288  0.690530   0.739939  0.544971\n",
       "pipeline3  0.702837  0.678586  0.728886   0.747351  0.663328\n",
       "pipeline4  0.735016  0.727894  0.742279   0.747202  0.723222"
      ]
     },
     "execution_count": 340,
     "metadata": {},
     "output_type": "execute_result"
    }
   ],
   "source": [
    "from sklearn.metrics import f1_score\n",
    "from sklearn.metrics import fbeta_score\n",
    "from sklearn.metrics import precision_score\n",
    "from sklearn.metrics import recall_score\n",
    "\n",
    "predictions = [model.predict(test_data) for model,\n",
    "               test_data in zip(models, bow_test)]\n",
    "\n",
    "scores = []\n",
    "for prediction in predictions:\n",
    "    scores.append((f1_score(y_true=df_test['toxic'],\n",
    "                            y_pred=prediction),\n",
    "                   fbeta_score(y_true=df_test['toxic'],\n",
    "                               y_pred=prediction, beta=2),\n",
    "                   fbeta_score(y_true=df_test['toxic'],\n",
    "                               y_pred=prediction, beta=0.5),\n",
    "                   precision_score(y_true=df_test['toxic'],\n",
    "                                   y_pred=prediction),\n",
    "                   recall_score(y_true=df_test['toxic'],\n",
    "                                y_pred=prediction)))"
   ]
  },
  {
   "cell_type": "code",
   "execution_count": 347,
   "metadata": {},
   "outputs": [
    {
     "data": {
      "text/plain": [
       "(0.5, 0.8)"
      ]
     },
     "execution_count": 347,
     "metadata": {},
     "output_type": "execute_result"
    },
    {
     "data": {
      "image/png": "[encoded data removed]",
      "text/plain": [
       "<Figure size 720x480 with 1 Axes>"
      ]
     },
     "metadata": {
      "needs_background": "light"
     },
     "output_type": "display_data"
    }
   ],
   "source": [
    "df_scores = pd.DataFrame(scores, columns=['f1', 'f2','f0.5','precision','recall'],\n",
    "             index=['pipeline1','pipeline2','pipeline3','pipeline4'])\n",
    "df_scores\n",
    "\n",
    "fig, ax = plt.subplots(figsize=(6,4), dpi=120)\n",
    "df_scores.plot(kind='line', style='o-', ax=ax)\n",
    "ax.grid()\n",
    "ax.set_ylim(0.5,0.8)"
   ]
  },
  {
   "cell_type": "markdown",
   "metadata": {},
   "source": [
    "## PR Curve for Across Different Pipelines"
   ]
  },
  {
   "cell_type": "code",
   "execution_count": 350,
   "metadata": {},
   "outputs": [
    {
     "data": {
      "image/png": "[encoded data removed]",
      "text/plain": [
       "<Figure size 720x480 with 1 Axes>"
      ]
     },
     "metadata": {
      "needs_background": "light"
     },
     "output_type": "display_data"
    }
   ],
   "source": [
    "from sklearn.metrics import plot_precision_recall_curve\n",
    "fig, ax = plt.subplots(figsize=(6,4), dpi=120)\n",
    "for model, test_data, title in zip(models, bow_test, df.columns[1:]):\n",
    "    plot_precision_recall_curve(model, test_data, df_test['toxic'], \n",
    "                                ax=ax, name=title)"
   ]
  },
  {
   "cell_type": "markdown",
   "metadata": {},
   "source": [
    "# Hyperpatameter Tuning"
   ]
  },
  {
   "cell_type": "code",
   "execution_count": 357,
   "metadata": {},
   "outputs": [],
   "source": [
    "from sklearn.model_selection import GridSearchCV"
   ]
  },
  {
   "cell_type": "code",
   "execution_count": 360,
   "metadata": {},
   "outputs": [
    {
     "data": {
      "text/plain": [
       "GridSearchCV(cv=5, estimator=MultinomialNB(), n_jobs=-1,\n",
       "             param_grid={'alpha': [0, 1, 2, 3, 4, 5]}, scoring='f1')"
      ]
     },
     "execution_count": 360,
     "metadata": {},
     "output_type": "execute_result"
    }
   ],
   "source": [
    "param_grid = {'alpha':[0,1,2,3,4,5]}\n",
    "model = MultinomialNB()\n",
    "\n",
    "g_cv = GridSearchCV(model, param_grid, n_jobs=-1, scoring='f1', cv=5)\n",
    "g_cv.fit(bow_train[0], df_train['toxic'])\n",
    "\n",
    "g_cv_4 = GridSearchCV(model, param_grid, n_jobs=-1, scoring='f1', cv=5)\n",
    "g_cv_4.fit(bow_train[-1], df_train['toxic'])"
   ]
  },
  {
   "cell_type": "code",
   "execution_count": 362,
   "metadata": {},
   "outputs": [
    {
     "data": {
      "text/html": [
       "<div>\n",
       "<style scoped>\n",
       "    .dataframe tbody tr th:only-of-type {\n",
       "        vertical-align: middle;\n",
       "    }\n",
       "\n",
       "    .dataframe tbody tr th {\n",
       "        vertical-align: top;\n",
       "    }\n",
       "\n",
       "    .dataframe thead th {\n",
       "        text-align: right;\n",
       "    }\n",
       "</style>\n",
       "<table border=\"1\" class=\"dataframe\">\n",
       "  <thead>\n",
       "    <tr style=\"text-align: right;\">\n",
       "      <th></th>\n",
       "      <th>mean_fit_time</th>\n",
       "      <th>std_fit_time</th>\n",
       "      <th>mean_score_time</th>\n",
       "      <th>std_score_time</th>\n",
       "      <th>param_alpha</th>\n",
       "      <th>params</th>\n",
       "      <th>split0_test_score</th>\n",
       "      <th>split1_test_score</th>\n",
       "      <th>split2_test_score</th>\n",
       "      <th>split3_test_score</th>\n",
       "      <th>split4_test_score</th>\n",
       "      <th>mean_test_score</th>\n",
       "      <th>std_test_score</th>\n",
       "      <th>rank_test_score</th>\n",
       "    </tr>\n",
       "  </thead>\n",
       "  <tbody>\n",
       "    <tr>\n",
       "      <th>0</th>\n",
       "      <td>0.245544</td>\n",
       "      <td>0.091020</td>\n",
       "      <td>0.068018</td>\n",
       "      <td>0.034151</td>\n",
       "      <td>0</td>\n",
       "      <td>{'alpha': 0}</td>\n",
       "      <td>0.661608</td>\n",
       "      <td>0.673166</td>\n",
       "      <td>0.673215</td>\n",
       "      <td>0.665067</td>\n",
       "      <td>0.660564</td>\n",
       "      <td>0.666724</td>\n",
       "      <td>0.005486</td>\n",
       "      <td>6</td>\n",
       "    </tr>\n",
       "    <tr>\n",
       "      <th>1</th>\n",
       "      <td>0.236170</td>\n",
       "      <td>0.053929</td>\n",
       "      <td>0.061512</td>\n",
       "      <td>0.031037</td>\n",
       "      <td>1</td>\n",
       "      <td>{'alpha': 1}</td>\n",
       "      <td>0.726093</td>\n",
       "      <td>0.744948</td>\n",
       "      <td>0.725711</td>\n",
       "      <td>0.722442</td>\n",
       "      <td>0.722649</td>\n",
       "      <td>0.728368</td>\n",
       "      <td>0.008426</td>\n",
       "      <td>1</td>\n",
       "    </tr>\n",
       "    <tr>\n",
       "      <th>2</th>\n",
       "      <td>0.195264</td>\n",
       "      <td>0.055164</td>\n",
       "      <td>0.027781</td>\n",
       "      <td>0.001187</td>\n",
       "      <td>2</td>\n",
       "      <td>{'alpha': 2}</td>\n",
       "      <td>0.719290</td>\n",
       "      <td>0.730734</td>\n",
       "      <td>0.723136</td>\n",
       "      <td>0.718237</td>\n",
       "      <td>0.716425</td>\n",
       "      <td>0.721564</td>\n",
       "      <td>0.005084</td>\n",
       "      <td>2</td>\n",
       "    </tr>\n",
       "    <tr>\n",
       "      <th>3</th>\n",
       "      <td>0.233744</td>\n",
       "      <td>0.061199</td>\n",
       "      <td>0.052632</td>\n",
       "      <td>0.021491</td>\n",
       "      <td>3</td>\n",
       "      <td>{'alpha': 3}</td>\n",
       "      <td>0.712727</td>\n",
       "      <td>0.722824</td>\n",
       "      <td>0.721349</td>\n",
       "      <td>0.712862</td>\n",
       "      <td>0.707777</td>\n",
       "      <td>0.715508</td>\n",
       "      <td>0.005694</td>\n",
       "      <td>3</td>\n",
       "    </tr>\n",
       "    <tr>\n",
       "      <th>4</th>\n",
       "      <td>0.237163</td>\n",
       "      <td>0.020312</td>\n",
       "      <td>0.039903</td>\n",
       "      <td>0.014863</td>\n",
       "      <td>4</td>\n",
       "      <td>{'alpha': 4}</td>\n",
       "      <td>0.700257</td>\n",
       "      <td>0.712905</td>\n",
       "      <td>0.710889</td>\n",
       "      <td>0.706578</td>\n",
       "      <td>0.703099</td>\n",
       "      <td>0.706746</td>\n",
       "      <td>0.004702</td>\n",
       "      <td>4</td>\n",
       "    </tr>\n",
       "    <tr>\n",
       "      <th>5</th>\n",
       "      <td>0.159474</td>\n",
       "      <td>0.036250</td>\n",
       "      <td>0.025595</td>\n",
       "      <td>0.000491</td>\n",
       "      <td>5</td>\n",
       "      <td>{'alpha': 5}</td>\n",
       "      <td>0.692641</td>\n",
       "      <td>0.705068</td>\n",
       "      <td>0.701848</td>\n",
       "      <td>0.696815</td>\n",
       "      <td>0.695842</td>\n",
       "      <td>0.698443</td>\n",
       "      <td>0.004440</td>\n",
       "      <td>5</td>\n",
       "    </tr>\n",
       "  </tbody>\n",
       "</table>\n",
       "</div>"
      ],
      "text/plain": [
       "   mean_fit_time  std_fit_time  mean_score_time  std_score_time param_alpha  \\\n",
       "0       0.245544      0.091020         0.068018        0.034151           0   \n",
       "1       0.236170      0.053929         0.061512        0.031037           1   \n",
       "2       0.195264      0.055164         0.027781        0.001187           2   \n",
       "3       0.233744      0.061199         0.052632        0.021491           3   \n",
       "4       0.237163      0.020312         0.039903        0.014863           4   \n",
       "5       0.159474      0.036250         0.025595        0.000491           5   \n",
       "\n",
       "         params  split0_test_score  split1_test_score  split2_test_score  \\\n",
       "0  {'alpha': 0}           0.661608           0.673166           0.673215   \n",
       "1  {'alpha': 1}           0.726093           0.744948           0.725711   \n",
       "2  {'alpha': 2}           0.719290           0.730734           0.723136   \n",
       "3  {'alpha': 3}           0.712727           0.722824           0.721349   \n",
       "4  {'alpha': 4}           0.700257           0.712905           0.710889   \n",
       "5  {'alpha': 5}           0.692641           0.705068           0.701848   \n",
       "\n",
       "   split3_test_score  split4_test_score  mean_test_score  std_test_score  \\\n",
       "0           0.665067           0.660564         0.666724        0.005486   \n",
       "1           0.722442           0.722649         0.728368        0.008426   \n",
       "2           0.718237           0.716425         0.721564        0.005084   \n",
       "3           0.712862           0.707777         0.715508        0.005694   \n",
       "4           0.706578           0.703099         0.706746        0.004702   \n",
       "5           0.696815           0.695842         0.698443        0.004440   \n",
       "\n",
       "   rank_test_score  \n",
       "0                6  \n",
       "1                1  \n",
       "2                2  \n",
       "3                3  \n",
       "4                4  \n",
       "5                5  "
      ]
     },
     "execution_count": 362,
     "metadata": {},
     "output_type": "execute_result"
    }
   ],
   "source": [
    "pd.DataFrame(g_cv.cv_results_) #pipeline 1"
   ]
  },
  {
   "cell_type": "code",
   "execution_count": 363,
   "metadata": {},
   "outputs": [
    {
     "data": {
      "text/html": [
       "<div>\n",
       "<style scoped>\n",
       "    .dataframe tbody tr th:only-of-type {\n",
       "        vertical-align: middle;\n",
       "    }\n",
       "\n",
       "    .dataframe tbody tr th {\n",
       "        vertical-align: top;\n",
       "    }\n",
       "\n",
       "    .dataframe thead th {\n",
       "        text-align: right;\n",
       "    }\n",
       "</style>\n",
       "<table border=\"1\" class=\"dataframe\">\n",
       "  <thead>\n",
       "    <tr style=\"text-align: right;\">\n",
       "      <th></th>\n",
       "      <th>mean_fit_time</th>\n",
       "      <th>std_fit_time</th>\n",
       "      <th>mean_score_time</th>\n",
       "      <th>std_score_time</th>\n",
       "      <th>param_alpha</th>\n",
       "      <th>params</th>\n",
       "      <th>split0_test_score</th>\n",
       "      <th>split1_test_score</th>\n",
       "      <th>split2_test_score</th>\n",
       "      <th>split3_test_score</th>\n",
       "      <th>split4_test_score</th>\n",
       "      <th>mean_test_score</th>\n",
       "      <th>std_test_score</th>\n",
       "      <th>rank_test_score</th>\n",
       "    </tr>\n",
       "  </thead>\n",
       "  <tbody>\n",
       "    <tr>\n",
       "      <th>0</th>\n",
       "      <td>0.167257</td>\n",
       "      <td>0.046880</td>\n",
       "      <td>0.041917</td>\n",
       "      <td>0.025074</td>\n",
       "      <td>0</td>\n",
       "      <td>{'alpha': 0}</td>\n",
       "      <td>0.665545</td>\n",
       "      <td>0.669295</td>\n",
       "      <td>0.677694</td>\n",
       "      <td>0.667632</td>\n",
       "      <td>0.658412</td>\n",
       "      <td>0.667716</td>\n",
       "      <td>0.006218</td>\n",
       "      <td>6</td>\n",
       "    </tr>\n",
       "    <tr>\n",
       "      <th>1</th>\n",
       "      <td>0.210584</td>\n",
       "      <td>0.027602</td>\n",
       "      <td>0.044902</td>\n",
       "      <td>0.018469</td>\n",
       "      <td>1</td>\n",
       "      <td>{'alpha': 1}</td>\n",
       "      <td>0.717756</td>\n",
       "      <td>0.739308</td>\n",
       "      <td>0.728129</td>\n",
       "      <td>0.719111</td>\n",
       "      <td>0.711977</td>\n",
       "      <td>0.723256</td>\n",
       "      <td>0.009551</td>\n",
       "      <td>1</td>\n",
       "    </tr>\n",
       "    <tr>\n",
       "      <th>2</th>\n",
       "      <td>0.213179</td>\n",
       "      <td>0.047097</td>\n",
       "      <td>0.042734</td>\n",
       "      <td>0.022658</td>\n",
       "      <td>2</td>\n",
       "      <td>{'alpha': 2}</td>\n",
       "      <td>0.710811</td>\n",
       "      <td>0.728028</td>\n",
       "      <td>0.719362</td>\n",
       "      <td>0.711687</td>\n",
       "      <td>0.709488</td>\n",
       "      <td>0.715875</td>\n",
       "      <td>0.006983</td>\n",
       "      <td>2</td>\n",
       "    </tr>\n",
       "    <tr>\n",
       "      <th>3</th>\n",
       "      <td>0.242211</td>\n",
       "      <td>0.036792</td>\n",
       "      <td>0.032420</td>\n",
       "      <td>0.010086</td>\n",
       "      <td>3</td>\n",
       "      <td>{'alpha': 3}</td>\n",
       "      <td>0.702940</td>\n",
       "      <td>0.721829</td>\n",
       "      <td>0.709979</td>\n",
       "      <td>0.703497</td>\n",
       "      <td>0.700693</td>\n",
       "      <td>0.707788</td>\n",
       "      <td>0.007671</td>\n",
       "      <td>3</td>\n",
       "    </tr>\n",
       "    <tr>\n",
       "      <th>4</th>\n",
       "      <td>0.177183</td>\n",
       "      <td>0.027201</td>\n",
       "      <td>0.034180</td>\n",
       "      <td>0.010136</td>\n",
       "      <td>4</td>\n",
       "      <td>{'alpha': 4}</td>\n",
       "      <td>0.693069</td>\n",
       "      <td>0.713839</td>\n",
       "      <td>0.702548</td>\n",
       "      <td>0.696608</td>\n",
       "      <td>0.693781</td>\n",
       "      <td>0.699969</td>\n",
       "      <td>0.007697</td>\n",
       "      <td>4</td>\n",
       "    </tr>\n",
       "    <tr>\n",
       "      <th>5</th>\n",
       "      <td>0.134014</td>\n",
       "      <td>0.024429</td>\n",
       "      <td>0.024770</td>\n",
       "      <td>0.004057</td>\n",
       "      <td>5</td>\n",
       "      <td>{'alpha': 5}</td>\n",
       "      <td>0.682950</td>\n",
       "      <td>0.704894</td>\n",
       "      <td>0.696970</td>\n",
       "      <td>0.685393</td>\n",
       "      <td>0.686762</td>\n",
       "      <td>0.691394</td>\n",
       "      <td>0.008272</td>\n",
       "      <td>5</td>\n",
       "    </tr>\n",
       "  </tbody>\n",
       "</table>\n",
       "</div>"
      ],
      "text/plain": [
       "   mean_fit_time  std_fit_time  mean_score_time  std_score_time param_alpha  \\\n",
       "0       0.167257      0.046880         0.041917        0.025074           0   \n",
       "1       0.210584      0.027602         0.044902        0.018469           1   \n",
       "2       0.213179      0.047097         0.042734        0.022658           2   \n",
       "3       0.242211      0.036792         0.032420        0.010086           3   \n",
       "4       0.177183      0.027201         0.034180        0.010136           4   \n",
       "5       0.134014      0.024429         0.024770        0.004057           5   \n",
       "\n",
       "         params  split0_test_score  split1_test_score  split2_test_score  \\\n",
       "0  {'alpha': 0}           0.665545           0.669295           0.677694   \n",
       "1  {'alpha': 1}           0.717756           0.739308           0.728129   \n",
       "2  {'alpha': 2}           0.710811           0.728028           0.719362   \n",
       "3  {'alpha': 3}           0.702940           0.721829           0.709979   \n",
       "4  {'alpha': 4}           0.693069           0.713839           0.702548   \n",
       "5  {'alpha': 5}           0.682950           0.704894           0.696970   \n",
       "\n",
       "   split3_test_score  split4_test_score  mean_test_score  std_test_score  \\\n",
       "0           0.667632           0.658412         0.667716        0.006218   \n",
       "1           0.719111           0.711977         0.723256        0.009551   \n",
       "2           0.711687           0.709488         0.715875        0.006983   \n",
       "3           0.703497           0.700693         0.707788        0.007671   \n",
       "4           0.696608           0.693781         0.699969        0.007697   \n",
       "5           0.685393           0.686762         0.691394        0.008272   \n",
       "\n",
       "   rank_test_score  \n",
       "0                6  \n",
       "1                1  \n",
       "2                2  \n",
       "3                3  \n",
       "4                4  \n",
       "5                5  "
      ]
     },
     "execution_count": 363,
     "metadata": {},
     "output_type": "execute_result"
    }
   ],
   "source": [
    "pd.DataFrame(g_cv_4.cv_results_) #pipeline 4"
   ]
  },
  {
   "cell_type": "markdown",
   "metadata": {},
   "source": [
    "# Best Model"
   ]
  },
  {
   "cell_type": "markdown",
   "metadata": {},
   "source": [
    "Since 2 models almost perform the same, we use these 2 models"
   ]
  },
  {
   "cell_type": "code",
   "execution_count": 367,
   "metadata": {},
   "outputs": [],
   "source": [
    "model1 = MultinomialNB(alpha=1)\n",
    "model1.fit(bow_train[0], df_train['toxic'])\n",
    "pred1 = model1.predict(bow_test[0])\n",
    "\n",
    "model2 = MultinomialNB(alpha=1)\n",
    "model2.fit(bow_train[-1], df_train['toxic'])\n",
    "pred2 = model2.predict(bow_test[-1])"
   ]
  },
  {
   "cell_type": "code",
   "execution_count": 369,
   "metadata": {},
   "outputs": [],
   "source": [
    "df_scores = df_scores.append(pd.DataFrame([(f1_score(y_true=df_test['toxic'],\n",
    "          y_pred=pred1),\n",
    " fbeta_score(y_true=df_test['toxic'],\n",
    "             y_pred=pred1, beta=2),\n",
    " fbeta_score(y_true=df_test['toxic'],\n",
    "             y_pred=pred1, beta=0.5),\n",
    " precision_score(y_true=df_test['toxic'],\n",
    "                 y_pred=pred1),\n",
    " recall_score(y_true=df_test['toxic'],\n",
    "              y_pred=pred1))], columns=df_scores.columns, index=['final_model1']))\n",
    "\n",
    "df_scores = df_scores.append(pd.DataFrame([(f1_score(y_true=df_test['toxic'],\n",
    "          y_pred=pred2),\n",
    " fbeta_score(y_true=df_test['toxic'],\n",
    "             y_pred=pred2, beta=2),\n",
    " fbeta_score(y_true=df_test['toxic'],\n",
    "             y_pred=pred2, beta=0.5),\n",
    " precision_score(y_true=df_test['toxic'],\n",
    "                 y_pred=pred2),\n",
    " recall_score(y_true=df_test['toxic'],\n",
    "              y_pred=pred2))], columns=df_scores.columns, index=['final_model2']))"
   ]
  },
  {
   "cell_type": "code",
   "execution_count": 370,
   "metadata": {},
   "outputs": [
    {
     "data": {
      "text/html": [
       "<div>\n",
       "<style scoped>\n",
       "    .dataframe tbody tr th:only-of-type {\n",
       "        vertical-align: middle;\n",
       "    }\n",
       "\n",
       "    .dataframe tbody tr th {\n",
       "        vertical-align: top;\n",
       "    }\n",
       "\n",
       "    .dataframe thead th {\n",
       "        text-align: right;\n",
       "    }\n",
       "</style>\n",
       "<table border=\"1\" class=\"dataframe\">\n",
       "  <thead>\n",
       "    <tr style=\"text-align: right;\">\n",
       "      <th></th>\n",
       "      <th>f1</th>\n",
       "      <th>f2</th>\n",
       "      <th>f0.5</th>\n",
       "      <th>precision</th>\n",
       "      <th>recall</th>\n",
       "    </tr>\n",
       "  </thead>\n",
       "  <tbody>\n",
       "    <tr>\n",
       "      <th>pipeline1</th>\n",
       "      <td>0.738408</td>\n",
       "      <td>0.736775</td>\n",
       "      <td>0.740048</td>\n",
       "      <td>0.741145</td>\n",
       "      <td>0.735691</td>\n",
       "    </tr>\n",
       "    <tr>\n",
       "      <th>pipeline2</th>\n",
       "      <td>0.627663</td>\n",
       "      <td>0.575288</td>\n",
       "      <td>0.690530</td>\n",
       "      <td>0.739939</td>\n",
       "      <td>0.544971</td>\n",
       "    </tr>\n",
       "    <tr>\n",
       "      <th>pipeline3</th>\n",
       "      <td>0.702837</td>\n",
       "      <td>0.678586</td>\n",
       "      <td>0.728886</td>\n",
       "      <td>0.747351</td>\n",
       "      <td>0.663328</td>\n",
       "    </tr>\n",
       "    <tr>\n",
       "      <th>pipeline4</th>\n",
       "      <td>0.735016</td>\n",
       "      <td>0.727894</td>\n",
       "      <td>0.742279</td>\n",
       "      <td>0.747202</td>\n",
       "      <td>0.723222</td>\n",
       "    </tr>\n",
       "    <tr>\n",
       "      <th>final_model1</th>\n",
       "      <td>0.738408</td>\n",
       "      <td>0.736775</td>\n",
       "      <td>0.740048</td>\n",
       "      <td>0.741145</td>\n",
       "      <td>0.735691</td>\n",
       "    </tr>\n",
       "    <tr>\n",
       "      <th>final_model2</th>\n",
       "      <td>0.735016</td>\n",
       "      <td>0.727894</td>\n",
       "      <td>0.742279</td>\n",
       "      <td>0.747202</td>\n",
       "      <td>0.723222</td>\n",
       "    </tr>\n",
       "  </tbody>\n",
       "</table>\n",
       "</div>"
      ],
      "text/plain": [
       "                    f1        f2      f0.5  precision    recall\n",
       "pipeline1     0.738408  0.736775  0.740048   0.741145  0.735691\n",
       "pipeline2     0.627663  0.575288  0.690530   0.739939  0.544971\n",
       "pipeline3     0.702837  0.678586  0.728886   0.747351  0.663328\n",
       "pipeline4     0.735016  0.727894  0.742279   0.747202  0.723222\n",
       "final_model1  0.738408  0.736775  0.740048   0.741145  0.735691\n",
       "final_model2  0.735016  0.727894  0.742279   0.747202  0.723222"
      ]
     },
     "metadata": {},
     "output_type": "display_data"
    }
   ],
   "source": [
    "display(df_scores)"
   ]
  },
  {
   "cell_type": "markdown",
   "metadata": {},
   "source": [
    "#### The final model 1 performs a bit better than the 2nd"
   ]
  },
  {
   "cell_type": "markdown",
   "metadata": {},
   "source": [
    "# PR Curve Of \"Best Pipeline\""
   ]
  },
  {
   "cell_type": "code",
   "execution_count": 373,
   "metadata": {},
   "outputs": [
    {
     "data": {
      "text/plain": [
       "<sklearn.metrics._plot.precision_recall_curve.PrecisionRecallDisplay at 0x19786f7b550>"
      ]
     },
     "execution_count": 373,
     "metadata": {},
     "output_type": "execute_result"
    },
    {
     "data": {
      "image/png": "[encoded data removed]",
      "text/plain": [
       "<Figure size 720x480 with 1 Axes>"
      ]
     },
     "metadata": {
      "needs_background": "light"
     },
     "output_type": "display_data"
    }
   ],
   "source": [
    "fig, ax = plt.subplots(figsize=(6,4), dpi=120)\n",
    "plot_precision_recall_curve(model1, bow_test[0], df_test['toxic'],\n",
    "                            ax=ax, name='Test Data')\n",
    "plot_precision_recall_curve(model1, bow_train[0], df_train['toxic'],\n",
    "                            ax=ax, name='Training Data')\n"
   ]
  }
 ],
 "metadata": {
  "kernelspec": {
   "display_name": "Python 3",
   "language": "python",
   "name": "python3"
  },
  "language_info": {
   "codemirror_mode": {
    "name": "ipython",
    "version": 3
   },
   "file_extension": ".py",
   "mimetype": "text/x-python",
   "name": "python",
   "nbconvert_exporter": "python",
   "pygments_lexer": "ipython3",
   "version": "3.8.3"
  }
 },
 "nbformat": 4,
 "nbformat_minor": 4
}

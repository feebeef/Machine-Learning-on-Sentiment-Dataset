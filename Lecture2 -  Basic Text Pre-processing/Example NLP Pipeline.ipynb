{
 "cells": [
  {
   "cell_type": "code",
   "execution_count": 17,
   "metadata": {
    "ExecuteTime": {
     "end_time": "2020-07-09T13:33:47.998503Z",
     "start_time": "2020-07-09T13:33:47.984847Z"
    }
   },
   "outputs": [],
   "source": [
    "# Import Packages\n",
    "import pandas as pd\n",
    "import spacy\n",
    "\n",
    "# Used for plotting\n",
    "import matplotlib.pyplot as plt"
   ]
  },
  {
   "cell_type": "code",
   "execution_count": null,
   "metadata": {},
   "outputs": [],
   "source": [
    "# Declare functions\n",
    "def tokenize_spacy(text, nlp):\n",
    "    doc = nlp(text)\n",
    "    return [token.text for token in doc]\n",
    "\n",
    "def lemmatize_spacy(text, nlp):\n",
    "    doc = nlp(text)\n",
    "    return [token.lemma_ for token in doc]"
   ]
  },
  {
   "cell_type": "code",
   "execution_count": 2,
   "metadata": {
    "ExecuteTime": {
     "end_time": "2020-07-09T13:31:03.330868Z",
     "start_time": "2020-07-09T13:31:03.179015Z"
    }
   },
   "outputs": [
    {
     "data": {
      "text/html": [
       "<div>\n",
       "<style scoped>\n",
       "    .dataframe tbody tr th:only-of-type {\n",
       "        vertical-align: middle;\n",
       "    }\n",
       "\n",
       "    .dataframe tbody tr th {\n",
       "        vertical-align: top;\n",
       "    }\n",
       "\n",
       "    .dataframe thead th {\n",
       "        text-align: right;\n",
       "    }\n",
       "</style>\n",
       "<table border=\"1\" class=\"dataframe\">\n",
       "  <thead>\n",
       "    <tr style=\"text-align: right;\">\n",
       "      <th></th>\n",
       "      <th>Unnamed: 0</th>\n",
       "      <th>text</th>\n",
       "      <th>label</th>\n",
       "    </tr>\n",
       "  </thead>\n",
       "  <tbody>\n",
       "    <tr>\n",
       "      <th>0</th>\n",
       "      <td>0</td>\n",
       "      <td>I often got real, physical headaches while pla...</td>\n",
       "      <td>good</td>\n",
       "    </tr>\n",
       "    <tr>\n",
       "      <th>1</th>\n",
       "      <td>1</td>\n",
       "      <td>Since its debut a decade ago, Dead Rising has ...</td>\n",
       "      <td>good</td>\n",
       "    </tr>\n",
       "    <tr>\n",
       "      <th>2</th>\n",
       "      <td>2</td>\n",
       "      <td>Ghost Recon: Wildlands is a squad based Tom Cl...</td>\n",
       "      <td>good</td>\n",
       "    </tr>\n",
       "    <tr>\n",
       "      <th>3</th>\n",
       "      <td>3</td>\n",
       "      <td>There is nothing subtle about Mother Russia Bl...</td>\n",
       "      <td>good</td>\n",
       "    </tr>\n",
       "    <tr>\n",
       "      <th>4</th>\n",
       "      <td>4</td>\n",
       "      <td>There are times when I Am Setsuna's mimicry is...</td>\n",
       "      <td>good</td>\n",
       "    </tr>\n",
       "  </tbody>\n",
       "</table>\n",
       "</div>"
      ],
      "text/plain": [
       "   Unnamed: 0                                               text label\n",
       "0           0  I often got real, physical headaches while pla...  good\n",
       "1           1  Since its debut a decade ago, Dead Rising has ...  good\n",
       "2           2  Ghost Recon: Wildlands is a squad based Tom Cl...  good\n",
       "3           3  There is nothing subtle about Mother Russia Bl...  good\n",
       "4           4  There are times when I Am Setsuna's mimicry is...  good"
      ]
     },
     "execution_count": 2,
     "metadata": {},
     "output_type": "execute_result"
    }
   ],
   "source": [
    "# Load the Data\n",
    "df = pd.read_csv('gamespot_reviews.csv').iloc[:50]\n",
    "df.head()"
   ]
  },
  {
   "cell_type": "code",
   "execution_count": 4,
   "metadata": {
    "ExecuteTime": {
     "end_time": "2020-07-09T13:31:26.422484Z",
     "start_time": "2020-07-09T13:31:03.338867Z"
    }
   },
   "outputs": [],
   "source": [
    "# Load Spacy Multi-task Convolutional Neural Network Model\n",
    "# This is a neural network model (aka \"AI\") that was trained to perform the basic NLP pipeline\n",
    "nlp = spacy.load(\"en_core_web_sm\")\n",
    "\n",
    "# Execute the pipeline\n",
    "df['tokenized'] = df['text'].apply(lambda x: tokenize_spacy(x, nlp))\n",
    "df['lemmatized'] = df['text'].apply(lambda x: lemmatize_spacy(x, nlp))"
   ]
  },
  {
   "cell_type": "code",
   "execution_count": 5,
   "metadata": {
    "ExecuteTime": {
     "end_time": "2020-07-09T13:31:26.444121Z",
     "start_time": "2020-07-09T13:31:26.422484Z"
    }
   },
   "outputs": [
    {
     "name": "stdout",
     "output_type": "stream",
     "text": [
      "I often got real, physical headaches while playing Obduction. Towards the end of the game, I’d regularly get completely stuck\n"
     ]
    }
   ],
   "source": [
    "print(df.text[0][:125])"
   ]
  },
  {
   "cell_type": "code",
   "execution_count": 6,
   "metadata": {
    "ExecuteTime": {
     "end_time": "2020-07-09T13:31:26.452121Z",
     "start_time": "2020-07-09T13:31:26.444121Z"
    }
   },
   "outputs": [
    {
     "name": "stdout",
     "output_type": "stream",
     "text": [
      "['I', 'often', 'got', 'real', ',', 'physical', 'headaches', 'while', 'playing', 'Obduction', '.', 'Towards', 'the', 'end', 'of', 'the', 'game', ',', 'I', '’d', 'regularly', 'get', 'completely', 'stuck', 'when']\n"
     ]
    }
   ],
   "source": [
    "print(df.tokenized[0][:25])"
   ]
  },
  {
   "cell_type": "code",
   "execution_count": 7,
   "metadata": {
    "ExecuteTime": {
     "end_time": "2020-07-09T13:31:26.460120Z",
     "start_time": "2020-07-09T13:31:26.452121Z"
    }
   },
   "outputs": [
    {
     "name": "stdout",
     "output_type": "stream",
     "text": [
      "['-PRON-', 'often', 'get', 'real', ',', 'physical', 'headache', 'while', 'play', 'Obduction', '.', 'towards', 'the', 'end', 'of', 'the', 'game', ',', '-PRON-', 'would', 'regularly', 'get', 'completely', 'stick', 'when']\n"
     ]
    }
   ],
   "source": [
    "# Bonus knowledge:\n",
    "# Notice how \"Obduction\" is still capitalized, whereas \"Towards\" is not.\n",
    "# The neural network executed the casefolding along side the lemmatization.\n",
    "print(df.lemmatized[0][:25])"
   ]
  },
  {
   "cell_type": "code",
   "execution_count": 22,
   "metadata": {
    "ExecuteTime": {
     "end_time": "2020-07-09T13:39:44.371342Z",
     "start_time": "2020-07-09T13:39:44.125093Z"
    }
   },
   "outputs": [
    {
     "data": {
      "text/plain": [
       "Text(0.5, 1.0, 'First 5 Documents')"
      ]
     },
     "execution_count": 22,
     "metadata": {},
     "output_type": "execute_result"
    },
    {
     "data": {
      "image/png": "[encoded data removed]",
      "text/plain": [
       "<Figure size 720x360 with 1 Axes>"
      ]
     },
     "metadata": {
      "needs_background": "light"
     },
     "output_type": "display_data"
    }
   ],
   "source": [
    "# Visualiation\n",
    "fig, ax = plt.subplots(figsize=(6,3), dpi=120)\n",
    "pd.DataFrame(df.lemmatized.apply(lambda x: len(set(x)))).join(df.tokenized.apply(lambda x: len(set(x)))).iloc[:5].sort_values('tokenized').plot(kind='barh', ax=ax)\n",
    "ax.set_ylabel('Document Number')\n",
    "ax.set_xlabel('Token Count')\n",
    "ax.set_title('First 5 Documents')"
   ]
  },
  {
   "cell_type": "code",
   "execution_count": null,
   "metadata": {},
   "outputs": [],
   "source": []
  }
 ],
 "metadata": {
  "kernelspec": {
   "display_name": "Python 3",
   "language": "python",
   "name": "python3"
  },
  "language_info": {
   "codemirror_mode": {
    "name": "ipython",
    "version": 3
   },
   "file_extension": ".py",
   "mimetype": "text/x-python",
   "name": "python",
   "nbconvert_exporter": "python",
   "pygments_lexer": "ipython3",
   "version": "3.7.6"
  },
  "toc": {
   "base_numbering": 1,
   "nav_menu": {},
   "number_sections": true,
   "sideBar": true,
   "skip_h1_title": false,
   "title_cell": "Table of Contents",
   "title_sidebar": "Contents",
   "toc_cell": false,
   "toc_position": {},
   "toc_section_display": true,
   "toc_window_display": false
  }
 },
 "nbformat": 4,
 "nbformat_minor": 4
}

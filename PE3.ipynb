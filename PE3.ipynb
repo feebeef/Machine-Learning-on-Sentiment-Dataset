{
 "cells": [
  {
   "cell_type": "code",
   "execution_count": 17,
   "metadata": {},
   "outputs": [],
   "source": [
    "import numpy as np # linear algebra\n",
    "import pandas as pd # data processing, CSV file I/O (e.g. pd.read_csv)\n",
    "from sklearn.model_selection import train_test_split\n",
    "from sklearn.naive_bayes import BernoulliNB\n",
    "from sklearn.linear_model import LogisticRegression\n",
    "from sklearn import linear_model\n",
    "from sklearn.metrics import log_loss\n",
    "\n",
    "from sklearn.feature_extraction.text import TfidfVectorizer\n",
    "from sklearn.model_selection import cross_val_score\n",
    "from scipy.sparse import hstack\n",
    "\n",
    "\n"
   ]
  },
  {
   "cell_type": "code",
<<<<<<< Updated upstream
   "execution_count": 2,
=======
   "execution_count": 18,
>>>>>>> Stashed changes
   "metadata": {},
   "outputs": [
    {
     "name": "stderr",
     "output_type": "stream",
     "text": [
      "[nltk_data] Downloading package stopwords to\n",
<<<<<<< Updated upstream
      "[nltk_data]     C:\\Users\\Patrick\\AppData\\Roaming\\nltk_data...\n",
=======
      "[nltk_data]     C:\\Users\\Phoebe\\AppData\\Roaming\\nltk_data...\n",
>>>>>>> Stashed changes
      "[nltk_data]   Package stopwords is already up-to-date!\n"
     ]
    }
   ],
   "source": [
    "import re\n",
    "import string\n",
    "import nltk\n",
    "nltk.download('stopwords')\n",
    "from nltk.corpus import stopwords\n",
    "stopwords = nltk.corpus.stopwords.words('english')"
   ]
  },
  {
   "cell_type": "code",
<<<<<<< Updated upstream
   "execution_count": 3,
=======
   "execution_count": 70,
>>>>>>> Stashed changes
   "metadata": {},
   "outputs": [
    {
     "data": {
      "text/html": [
       "<div>\n",
       "<style scoped>\n",
       "    .dataframe tbody tr th:only-of-type {\n",
       "        vertical-align: middle;\n",
       "    }\n",
       "\n",
       "    .dataframe tbody tr th {\n",
       "        vertical-align: top;\n",
       "    }\n",
       "\n",
       "    .dataframe thead th {\n",
       "        text-align: right;\n",
       "    }\n",
       "</style>\n",
       "<table border=\"1\" class=\"dataframe\">\n",
       "  <thead>\n",
       "    <tr style=\"text-align: right;\">\n",
       "      <th></th>\n",
       "      <th>id</th>\n",
       "      <th>comment_text</th>\n",
       "      <th>toxic</th>\n",
       "      <th>severe_toxic</th>\n",
       "      <th>obscene</th>\n",
       "      <th>threat</th>\n",
       "      <th>insult</th>\n",
       "      <th>identity_hate</th>\n",
       "    </tr>\n",
       "  </thead>\n",
       "  <tbody>\n",
       "    <tr>\n",
       "      <th>0</th>\n",
       "      <td>0000997932d777bf</td>\n",
       "      <td>Explanation\\nWhy the edits made under my usern...</td>\n",
       "      <td>0</td>\n",
       "      <td>0</td>\n",
       "      <td>0</td>\n",
       "      <td>0</td>\n",
       "      <td>0</td>\n",
       "      <td>0</td>\n",
       "    </tr>\n",
       "    <tr>\n",
       "      <th>1</th>\n",
       "      <td>000103f0d9cfb60f</td>\n",
       "      <td>D'aww! He matches this background colour I'm s...</td>\n",
       "      <td>0</td>\n",
       "      <td>0</td>\n",
       "      <td>0</td>\n",
       "      <td>0</td>\n",
       "      <td>0</td>\n",
       "      <td>0</td>\n",
       "    </tr>\n",
       "    <tr>\n",
       "      <th>2</th>\n",
       "      <td>000113f07ec002fd</td>\n",
       "      <td>Hey man, I'm really not trying to edit war. It...</td>\n",
       "      <td>0</td>\n",
       "      <td>0</td>\n",
       "      <td>0</td>\n",
       "      <td>0</td>\n",
       "      <td>0</td>\n",
       "      <td>0</td>\n",
       "    </tr>\n",
       "    <tr>\n",
       "      <th>3</th>\n",
       "      <td>0001b41b1c6bb37e</td>\n",
       "      <td>\"\\nMore\\nI can't make any real suggestions on ...</td>\n",
       "      <td>0</td>\n",
       "      <td>0</td>\n",
       "      <td>0</td>\n",
       "      <td>0</td>\n",
       "      <td>0</td>\n",
       "      <td>0</td>\n",
       "    </tr>\n",
       "    <tr>\n",
       "      <th>4</th>\n",
       "      <td>0001d958c54c6e35</td>\n",
       "      <td>You, sir, are my hero. Any chance you remember...</td>\n",
       "      <td>0</td>\n",
       "      <td>0</td>\n",
       "      <td>0</td>\n",
       "      <td>0</td>\n",
       "      <td>0</td>\n",
       "      <td>0</td>\n",
       "    </tr>\n",
       "  </tbody>\n",
       "</table>\n",
       "</div>"
      ],
      "text/plain": [
       "                 id                                       comment_text  toxic  \\\n",
       "0  0000997932d777bf  Explanation\\nWhy the edits made under my usern...      0   \n",
       "1  000103f0d9cfb60f  D'aww! He matches this background colour I'm s...      0   \n",
       "2  000113f07ec002fd  Hey man, I'm really not trying to edit war. It...      0   \n",
       "3  0001b41b1c6bb37e  \"\\nMore\\nI can't make any real suggestions on ...      0   \n",
       "4  0001d958c54c6e35  You, sir, are my hero. Any chance you remember...      0   \n",
       "\n",
       "   severe_toxic  obscene  threat  insult  identity_hate  \n",
       "0             0        0       0       0              0  \n",
       "1             0        0       0       0              0  \n",
       "2             0        0       0       0              0  \n",
       "3             0        0       0       0              0  \n",
       "4             0        0       0       0              0  "
      ]
     },
     "metadata": {},
     "output_type": "display_data"
    }
   ],
   "source": [
    "train_csv = pd.read_csv('train.csv', error_bad_lines=False).fillna(' ')\n",
    "test_csv = pd.read_csv('test.csv', error_bad_lines=False).fillna(' ')\n",
    "display(train_csv.head())"
   ]
  },
  {
   "cell_type": "code",
   "execution_count": 72,
   "metadata": {},
   "outputs": [
    {
     "data": {
      "text/html": [
       "<div>\n",
       "<style scoped>\n",
       "    .dataframe tbody tr th:only-of-type {\n",
       "        vertical-align: middle;\n",
       "    }\n",
       "\n",
       "    .dataframe tbody tr th {\n",
       "        vertical-align: top;\n",
       "    }\n",
       "\n",
       "    .dataframe thead th {\n",
       "        text-align: right;\n",
       "    }\n",
       "</style>\n",
       "<table border=\"1\" class=\"dataframe\">\n",
       "  <thead>\n",
       "    <tr style=\"text-align: right;\">\n",
       "      <th></th>\n",
       "      <th>id</th>\n",
       "      <th>comment_text</th>\n",
       "      <th>general_toxic</th>\n",
       "    </tr>\n",
       "  </thead>\n",
       "  <tbody>\n",
       "    <tr>\n",
       "      <th>200</th>\n",
       "      <td>007f127033d66db5</td>\n",
       "      <td>\"\\n\\n Link to Sacramento \\n\\nI placed a wikipe...</td>\n",
       "      <td>0</td>\n",
       "    </tr>\n",
       "    <tr>\n",
       "      <th>201</th>\n",
       "      <td>007f1839ada915e6</td>\n",
       "      <td>Your blatant POV pushing \\n\\nNeither of you gu...</td>\n",
       "      <td>1</td>\n",
       "    </tr>\n",
       "    <tr>\n",
       "      <th>202</th>\n",
       "      <td>00803f08f55bdcad</td>\n",
       "      <td>\"\\nReliable sources indicate otherwise. Please...</td>\n",
       "      <td>0</td>\n",
       "    </tr>\n",
       "    <tr>\n",
       "      <th>203</th>\n",
       "      <td>008198c5a9d85a8e</td>\n",
       "      <td>I did research thank you very much, and it is ...</td>\n",
       "      <td>0</td>\n",
       "    </tr>\n",
       "    <tr>\n",
       "      <th>204</th>\n",
       "      <td>00822d0d01752c7e</td>\n",
       "      <td>\"\\n\\nA \"\"TotallyDisputed\"\" notice would probab...</td>\n",
       "      <td>0</td>\n",
       "    </tr>\n",
       "  </tbody>\n",
       "</table>\n",
       "</div>"
      ],
      "text/plain": [
       "                   id                                       comment_text  \\\n",
       "200  007f127033d66db5  \"\\n\\n Link to Sacramento \\n\\nI placed a wikipe...   \n",
       "201  007f1839ada915e6  Your blatant POV pushing \\n\\nNeither of you gu...   \n",
       "202  00803f08f55bdcad  \"\\nReliable sources indicate otherwise. Please...   \n",
       "203  008198c5a9d85a8e  I did research thank you very much, and it is ...   \n",
       "204  00822d0d01752c7e  \"\\n\\nA \"\"TotallyDisputed\"\" notice would probab...   \n",
       "\n",
       "     general_toxic  \n",
       "200              0  \n",
       "201              1  \n",
       "202              0  \n",
       "203              0  \n",
       "204              0  "
      ]
     },
     "metadata": {},
     "output_type": "display_data"
    }
   ],
   "source": [
    "#aggregation of toxic labels\n",
    "train = train_csv\n",
    "train['general_toxic'] = ((train['toxic'] + train['severe_toxic'] + train['obscene'] + train['threat'] + train['insult'] + train['identity_hate']) > 0).astype(int)\n",
    "train = train.drop(columns=['toxic', 'severe_toxic', 'severe_toxic', 'threat', 'insult', 'identity_hate', 'obscene'])\n",
    "display(train[200:250].head()) "
   ]
  },
  {
   "cell_type": "code",
   "execution_count": 11,
   "metadata": {},
   "outputs": [
    {
     "data": {
      "text/plain": [
       "'\"def change_label(toxic):\\n    if 1 in [\\'toxic\\']:\\n        return 1\\n    else:\\n        return 0\\n\\n    \\ntrain[\\'toxic\\'] = train[\\'toxic\\'].apply(lambda x: change_label(x))\\n\\nfig, ax = plt.subplots(figsize=(6,4), dpi=120)\\ntrain.groupby(\\'toxic\\')[\\'toxic\\'].count().plot(kind=\\'barh\\', ax=ax)\\nax.set_xlabel(\\'Count\\'); '"
      ]
     },
     "execution_count": 11,
     "metadata": {},
     "output_type": "execute_result"
    },
    {
     "data": {
      "image/png": "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\n",
      "text/plain": [
       "<Figure size 720x480 with 1 Axes>"
      ]
     },
     "metadata": {
      "needs_background": "light"
     },
     "output_type": "display_data"
    }
   ],
   "source": [
    "import matplotlib.pyplot as plt\n",
    "\n",
    "fig, ax = plt.subplots(figsize=(6,4), dpi=120)\n",
    "train.groupby('obscene')['obscene'].count().plot(kind='barh', ax=ax)\n",
    "ax.set_xlabel('Count');\n",
    "\n",
    "\"\"\"\"def change_label(toxic):\n",
    "    if 1 in ['toxic']:\n",
    "        return 1\n",
    "    else:\n",
    "        return 0\n",
    "\n",
    "    \n",
    "train['toxic'] = train['toxic'].apply(lambda x: change_label(x))\n",
    "\n",
    "fig, ax = plt.subplots(figsize=(6,4), dpi=120)\n",
    "train.groupby('toxic')['toxic'].count().plot(kind='barh', ax=ax)\n",
    "ax.set_xlabel('Count'); \"\"\""
   ]
  },
  {
   "cell_type": "code",
   "execution_count": null,
   "metadata": {},
   "outputs": [],
   "source": []
  }
 ],
 "metadata": {
  "kernelspec": {
   "display_name": "Python 3",
   "language": "python",
   "name": "python3"
  },
  "language_info": {
   "codemirror_mode": {
    "name": "ipython",
    "version": 3
   },
   "file_extension": ".py",
   "mimetype": "text/x-python",
   "name": "python",
   "nbconvert_exporter": "python",
   "pygments_lexer": "ipython3",
   "version": "3.7.2"
  }
 },
 "nbformat": 4,
 "nbformat_minor": 4
}
